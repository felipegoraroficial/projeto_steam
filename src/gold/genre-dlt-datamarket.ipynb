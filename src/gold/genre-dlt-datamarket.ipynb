{
 "cells": [
  {
   "cell_type": "code",
   "execution_count": 0,
   "metadata": {
    "application/vnd.databricks.v1+cell": {
     "cellMetadata": {},
     "inputWidgets": {},
     "nuid": "5452db6b-ade2-47fa-9fa0-17aa3ad7acd6",
     "showTitle": false,
     "tableResultSettingsMap": {},
     "title": ""
    }
   },
   "outputs": [],
   "source": [
    "import dlt\n",
    "import requests\n",
    "from pyspark.sql.functions import col, count, explode, collect_list, desc, first, round, sum as sum_spark\n",
    "\n",
    "@dlt.table(\n",
    "    name=\"generos\",\n",
    "    comment=\"dados da bigtables gerando uma tabela genero\"\n",
    ")\n",
    "def playtime_silver():\n",
    "    df = dlt.read(\"steamdatabricks_workspace.gold.bigtable\")\n",
    "\n",
    "    df_proporcao = dlt.read(\"steamdatabricks_workspace.gold.playtime\")\n",
    "\n",
    "    genres = df.select('appid', 'id_genres', 'description_genres').distinct()\n",
    "\n",
    "    genres = genres.withColumnRenamed(\"description_genres\", \"genres\")\n",
    "\n",
    "    df_generos_por_app = (\n",
    "        genres.groupBy(\"genres\")\n",
    "            .agg(\n",
    "                count(\"appid\").alias(\"qtd_games\"),\n",
    "                collect_list(\"appid\").alias(\"appids\")\n",
    "            )\n",
    "            .orderBy(desc(\"qtd_games\"))\n",
    "    )\n",
    "\n",
    "    df_exploded = df_generos_por_app.select(\"genres\", \"qtd_games\", explode(\"appids\").alias(\"appid\"))\n",
    "\n",
    "    df_joined = df_exploded.join(df_proporcao.select(\"appid\", \"playtime_forever\"), on=\"appid\", how=\"left\")\n",
    "\n",
    "    df_generos_por_app_join = (\n",
    "        df_joined.groupBy(\"genres\")\n",
    "            .agg(\n",
    "                first(\"qtd_games\").alias(\"qtd_games\"),\n",
    "                round(sum_spark(\"playtime_forever\"), 2).alias(\"playtime_total\"),\n",
    "                collect_list(\"appid\").alias(\"appids\")\n",
    "            )\n",
    "            .orderBy(desc(\"playtime_total\"))\n",
    "    )\n",
    "\n",
    "    return df_generos_por_app_join"
   ]
  }
 ],
 "metadata": {
  "application/vnd.databricks.v1+notebook": {
   "computePreferences": null,
   "dashboards": [],
   "environmentMetadata": {
    "base_environment": "",
    "environment_version": "3"
   },
   "inputWidgetPreferences": null,
   "language": "python",
   "notebookMetadata": {
    "pythonIndentUnit": 4
   },
   "notebookName": "genre-dlt-datamarket",
   "widgets": {}
  },
  "language_info": {
   "name": "python"
  }
 },
 "nbformat": 4,
 "nbformat_minor": 0
}
