{
 "cells": [
  {
   "cell_type": "code",
   "execution_count": 0,
   "metadata": {
    "application/vnd.databricks.v1+cell": {
     "cellMetadata": {},
     "inputWidgets": {},
     "nuid": "5452db6b-ade2-47fa-9fa0-17aa3ad7acd6",
     "showTitle": false,
     "tableResultSettingsMap": {},
     "title": ""
    }
   },
   "outputs": [],
   "source": [
    "import dlt\n",
    "\n",
    "@dlt.table(\n",
    "    name=\"dim\",\n",
    "    comment=\"dados da bigtables gerando uma tabela dim\"\n",
    ")\n",
    "def playtime_silver():\n",
    "    df = dlt.read(\"steamdatabricks_workspace.gold.bigtable\")\n",
    "\n",
    "    df_dim = df.select('appid', 'name', 'type', 'header_image', 'publishers', 'required_age',\n",
    "                        'website', 'short_description', 'languages', 'OS', 'Processor', 'Memory',\n",
    "                        'Graphics', 'Storage').distinct()\n",
    "\n",
    "    return df_dim"
   ]
  }
 ],
 "metadata": {
  "application/vnd.databricks.v1+notebook": {
   "computePreferences": null,
   "dashboards": [],
   "environmentMetadata": {
    "base_environment": "",
    "environment_version": "3"
   },
   "inputWidgetPreferences": null,
   "language": "python",
   "notebookMetadata": {
    "pythonIndentUnit": 4
   },
   "notebookName": "dim-dlt-datamarket",
   "widgets": {}
  },
  "language_info": {
   "name": "python"
  }
 },
 "nbformat": 4,
 "nbformat_minor": 0
}
