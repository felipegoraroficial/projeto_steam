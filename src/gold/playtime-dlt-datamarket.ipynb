{
 "cells": [
  {
   "cell_type": "code",
   "execution_count": 0,
   "metadata": {
    "application/vnd.databricks.v1+cell": {
     "cellMetadata": {},
     "inputWidgets": {},
     "nuid": "5452db6b-ade2-47fa-9fa0-17aa3ad7acd6",
     "showTitle": false,
     "tableResultSettingsMap": {},
     "title": ""
    }
   },
   "outputs": [],
   "source": [
    "import dlt\n",
    "from pyspark.sql.functions import col, max as spark_max, sum as sum_spark, desc, round, current_date, datediff\n",
    "\n",
    "@dlt.table(\n",
    "    name=\"playtime\",\n",
    "    comment=\"dados da bigtables gerando uma tabela playtime\"\n",
    ")\n",
    "def playtime_silver():\n",
    "    df = dlt.read(\"steamdatabricks_workspace.gold.bigtable\") \\\n",
    "            .filter(col('playtime_forever') > 0.00)\n",
    "\n",
    "\n",
    "    df_playtime= df.select(\"appid\", \"playtime_forever\", \"rtime_last_played\").distinct()\n",
    "\n",
    "    df_max_dates = (\n",
    "        df_playtime.groupBy(\"appid\")\n",
    "            .agg(spark_max(\"rtime_last_played\").alias(\"ultima_data_jogada\"))\n",
    "    )\n",
    "\n",
    "    df_filtrado = (\n",
    "        df_playtime.join(df_max_dates,\n",
    "                (df_playtime.appid == df_max_dates.appid) &\n",
    "                (df_playtime.rtime_last_played == df_max_dates.ultima_data_jogada),\n",
    "                \"inner\"\n",
    "        )\n",
    "        .select(df_playtime[\"*\"])  \n",
    "    ).orderBy(col(\"playtime_forever\").desc())\n",
    "\n",
    "    df_com_tempo_sem_jogar = (\n",
    "        df_filtrado.withColumn(\n",
    "            \"time_without_play\",\n",
    "            datediff(current_date(), col(\"rtime_last_played\")).cast(\"int\")\n",
    "        )\n",
    "    )\n",
    "\n",
    "    total_horas = df_com_tempo_sem_jogar.agg(sum_spark(\"playtime_forever\").alias(\"total_horas\")).collect()[0][\"total_horas\"]\n",
    "\n",
    "    df_proporcao = df_com_tempo_sem_jogar.withColumn(\n",
    "        \"proporcao_tempo\",\n",
    "        round((col(\"playtime_forever\") / total_horas) * 100, 2)\n",
    "    )\n",
    "\n",
    "    return df_proporcao"
   ]
  }
 ],
 "metadata": {
  "application/vnd.databricks.v1+notebook": {
   "computePreferences": null,
   "dashboards": [],
   "environmentMetadata": {
    "base_environment": "",
    "environment_version": "3"
   },
   "inputWidgetPreferences": null,
   "language": "python",
   "notebookMetadata": {
    "pythonIndentUnit": 4
   },
   "notebookName": "playtime-dlt-datamarket",
   "widgets": {}
  },
  "language_info": {
   "name": "python"
  }
 },
 "nbformat": 4,
 "nbformat_minor": 0
}
