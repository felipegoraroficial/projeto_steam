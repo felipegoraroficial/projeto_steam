{
 "cells": [
  {
   "cell_type": "code",
   "execution_count": 0,
   "metadata": {
    "application/vnd.databricks.v1+cell": {
     "cellMetadata": {},
     "inputWidgets": {},
     "nuid": "5452db6b-ade2-47fa-9fa0-17aa3ad7acd6",
     "showTitle": false,
     "tableResultSettingsMap": {},
     "title": ""
    }
   },
   "outputs": [],
   "source": [
    "import dlt\n",
    "import requests\n",
    "from pyspark.sql.functions import col, round, when, lit\n",
    "from pyspark.sql.types import DoubleType, StringType, StructType, StructField\n",
    "from pyspark.sql import SparkSession\n",
    "\n",
    "spark = SparkSession.builder.getOrCreate()\n",
    "\n",
    "def get_exchange_rate(currency_code):\n",
    "    url = f\"https://economia.awesomeapi.com.br/json/last/{currency_code}-BRL\"\n",
    "    response = requests.get(url)\n",
    "    if response.status_code == 200:\n",
    "        data = response.json()\n",
    "        pair_key = currency_code + 'BRL'\n",
    "        return float(data[pair_key]['bid'])\n",
    "    return 1.0\n",
    "\n",
    "@dlt.table(\n",
    "    name=\"prices\",\n",
    "    comment=\"dados da bigtables gerando uma tabela com dados de preço\"\n",
    ")\n",
    "def playtime_silver():\n",
    "    df = dlt.read(\"steamdatabricks_workspace.gold.bigtable\")\n",
    "    df_prices = df.select('appid', 'Currency', 'Price', 'is_free').distinct()\n",
    "\n",
    "    # Obter moedas únicas (excluindo '-')\n",
    "    unique_currencies = [row.Currency for row in df_prices.select(\"Currency\").distinct().collect() if row.Currency != '-']\n",
    "\n",
    "    # Criar lista de tuplas (currency, rate)\n",
    "    rates_list = [(currency, get_exchange_rate(currency)) for currency in unique_currencies]\n",
    "    rates_list.append(('-', 1.0))  # tratar '-' como BRL\n",
    "\n",
    "    # Criar schema para DataFrame de taxas\n",
    "    schema = StructType([\n",
    "        StructField('Currency', StringType(), False),\n",
    "        StructField('Rate', DoubleType(), False)\n",
    "    ])\n",
    "\n",
    "    # Criar DataFrame de taxas\n",
    "    df_rates = spark.createDataFrame(rates_list, schema)\n",
    "\n",
    "    # Fazer join para associar taxas aos preços\n",
    "    df_joined = df_prices.join(df_rates, on='Currency', how='left')\n",
    "\n",
    "    # Converter o preço para BRL usando colunas e expressão Spark\n",
    "    df_converted = df_joined.withColumn(\n",
    "        'PriceBRL',\n",
    "        when(col('is_free') == True, 0.0)\n",
    "        .otherwise(round(col('Price') * col('Rate'), 2))\n",
    "    )\n",
    "\n",
    "    # Atualizar coluna is_free caso price seja zero\n",
    "    df_final = df_converted.withColumn(\n",
    "        'is_free',\n",
    "        when(col('Price') == 0, True).otherwise(col('is_free'))\n",
    "    )\n",
    "\n",
    "    return df_final\n"
   ]
  }
 ],
 "metadata": {
  "application/vnd.databricks.v1+notebook": {
   "computePreferences": null,
   "dashboards": [],
   "environmentMetadata": {
    "base_environment": "",
    "environment_version": "3"
   },
   "inputWidgetPreferences": null,
   "language": "python",
   "notebookMetadata": {
    "pythonIndentUnit": 4
   },
   "notebookName": "prices-dlt-datamarket",
   "widgets": {}
  },
  "language_info": {
   "name": "python"
  }
 },
 "nbformat": 4,
 "nbformat_minor": 0
}
