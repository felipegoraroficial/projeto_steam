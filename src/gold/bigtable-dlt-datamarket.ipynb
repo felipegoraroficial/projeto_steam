{
 "cells": [
  {
   "cell_type": "code",
   "execution_count": 0,
   "metadata": {
    "application/vnd.databricks.v1+cell": {
     "cellMetadata": {},
     "inputWidgets": {},
     "nuid": "5452db6b-ade2-47fa-9fa0-17aa3ad7acd6",
     "showTitle": false,
     "tableResultSettingsMap": {},
     "title": ""
    }
   },
   "outputs": [],
   "source": [
    "import dlt\n",
    "\n",
    "@dlt.table(\n",
    "    name=\"bigtable\",\n",
    "    comment=\"dados da camada silver unificados em one big table\"\n",
    ")\n",
    "def playtime_silver():\n",
    "    df1 = dlt.read(\"steamdatabricks_workspace.silver.playtime\")\n",
    "    df2 = dlt.read(\"steamdatabricks_workspace.silver.details\")\n",
    "\n",
    "    df_union = (\n",
    "        df1.join(df2, df1.appid == df2.steam_appid, \"left\").drop(df2.steam_appid)\n",
    "        .select('appid', 'name', 'type', 'playtime_forever', 'rtime_last_played', \n",
    "                'header_image', 'is_free', 'publishers', 'required_age', 'website', 'short_description', \n",
    "                'id_genres', 'description_genres', 'id_categories', 'description_categories', 'languages',\n",
    "                'OS', 'Processor', 'Memory', 'Graphics', 'Storage', 'Currency', 'Price')\n",
    "    )\n",
    "\n",
    "    return df_union"
   ]
  }
 ],
 "metadata": {
  "application/vnd.databricks.v1+notebook": {
   "computePreferences": null,
   "dashboards": [],
   "environmentMetadata": {
    "base_environment": "",
    "environment_version": "3"
   },
   "inputWidgetPreferences": null,
   "language": "python",
   "notebookMetadata": {
    "pythonIndentUnit": 4
   },
   "notebookName": "bigtable-dlt-datamarket",
   "widgets": {}
  },
  "language_info": {
   "name": "python"
  }
 },
 "nbformat": 4,
 "nbformat_minor": 0
}
