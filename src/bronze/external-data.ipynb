{
 "cells": [
  {
   "cell_type": "code",
   "execution_count": 0,
   "metadata": {
    "application/vnd.databricks.v1+cell": {
     "cellMetadata": {
      "byteLimit": 2048000,
      "rowLimit": 10000
     },
     "inputWidgets": {},
     "nuid": "3cdbc125-171d-4de1-af40-ff3a8685b5d1",
     "showTitle": false,
     "tableResultSettingsMap": {},
     "title": ""
    }
   },
   "outputs": [],
   "source": [
    "from pyspark.sql.functions import col, count"
   ]
  },
  {
   "cell_type": "code",
   "execution_count": 0,
   "metadata": {
    "application/vnd.databricks.v1+cell": {
     "cellMetadata": {
      "byteLimit": 2048000,
      "implicitDf": true,
      "rowLimit": 10000
     },
     "inputWidgets": {},
     "nuid": "9c1af369-fbcd-4b76-85d5-49a40a8896c4",
     "showTitle": false,
     "tableResultSettingsMap": {},
     "title": ""
    }
   },
   "outputs": [],
   "source": [
    "%sql\n",
    "CREATE SCHEMA IF NOT EXISTS steamdatabricks_workspace.external"
   ]
  },
  {
   "cell_type": "code",
   "execution_count": 0,
   "metadata": {
    "application/vnd.databricks.v1+cell": {
     "cellMetadata": {
      "byteLimit": 2048000,
      "implicitDf": true,
      "rowLimit": 10000
     },
     "inputWidgets": {},
     "nuid": "4f5544e4-b2da-4b25-959c-d83d4511e5bd",
     "showTitle": false,
     "tableResultSettingsMap": {},
     "title": ""
    }
   },
   "outputs": [],
   "source": [
    "%sql\n",
    "CREATE EXTERNAL TABLE IF NOT EXISTS steamdatabricks_workspace.external.playtime (\n",
    "  appid STRING,\n",
    "  playtime_forever STRING,\n",
    "  playtime_windows_forever STRING,\n",
    "  playtime_mac_forever STRING,\n",
    "  playtime_linux_forever STRING,\n",
    "  playtime_deck_forever STRING,\n",
    "  rtime_last_played STRING,\n",
    "  playtime_disconnected STRING\n",
    ")\n",
    "USING DELTA\n",
    "LOCATION 'abfss://steam@steamstorageaccount.dfs.core.windows.net/bronze/playtime/'\n",
    "PARTITIONED BY (appid)"
   ]
  },
  {
   "cell_type": "code",
   "execution_count": 0,
   "metadata": {
    "application/vnd.databricks.v1+cell": {
     "cellMetadata": {
      "byteLimit": 2048000,
      "implicitDf": true,
      "rowLimit": 10000
     },
     "inputWidgets": {},
     "nuid": "7a410fdb-2db7-477d-b506-02549b34d229",
     "showTitle": false,
     "tableResultSettingsMap": {},
     "title": ""
    }
   },
   "outputs": [],
   "source": [
    "%sql\n",
    "CREATE EXTERNAL TABLE IF NOT EXISTS steamdatabricks_workspace.external.details (\n",
    "  about_the_game STRING,\n",
    "  achievements STRING,\n",
    "  background STRING,\n",
    "  background_raw STRING,\n",
    "  capsule_image STRING,\n",
    "  capsule_imagev5 STRING,\n",
    "  categories STRING,\n",
    "  content_descriptors STRING,\n",
    "  controller_support STRING,\n",
    "  demos STRING,\n",
    "  detailed_description STRING,\n",
    "  developers STRING,\n",
    "  dlc STRING,\n",
    "  drm_notice STRING,\n",
    "  ext_user_account_notice STRING,\n",
    "  genres STRING,\n",
    "  header_image STRING,\n",
    "  is_free STRING,\n",
    "  legal_notice STRING,\n",
    "  linux_requirements STRING,\n",
    "  mac_requirements STRING,\n",
    "  metacritic STRING,\n",
    "  movies STRING,\n",
    "  name STRING,\n",
    "  package_groups STRING,\n",
    "  packages STRING,\n",
    "  pc_requirements STRING,\n",
    "  platforms STRING,\n",
    "  price_overview STRING,\n",
    "  publishers STRING,\n",
    "  ratings STRING,\n",
    "  recommendations STRING,\n",
    "  release_date STRING,\n",
    "  required_age STRING,\n",
    "  reviews STRING,\n",
    "  screenshots STRING,\n",
    "  short_description STRING,\n",
    "  steam_appid STRING,\n",
    "  support_info STRING,\n",
    "  supported_languages STRING,\n",
    "  type STRING,\n",
    "  website STRING\n",
    ")\n",
    "USING DELTA\n",
    "LOCATION 'abfss://steam@steamstorageaccount.dfs.core.windows.net/bronze/details/'\n",
    "PARTITIONED BY (steam_appid)"
   ]
  },
  {
   "cell_type": "code",
   "execution_count": 0,
   "metadata": {
    "application/vnd.databricks.v1+cell": {
     "cellMetadata": {
      "byteLimit": 2048000,
      "rowLimit": 10000
     },
     "inputWidgets": {},
     "nuid": "a2fa1ae3-50e9-4dd4-8807-1918b927c42a",
     "showTitle": false,
     "tableResultSettingsMap": {},
     "title": ""
    }
   },
   "outputs": [],
   "source": [
    "df_table = spark.table(\"steamdatabricks_workspace.steam.playtime_b\")\n",
    "\n",
    "df_external = spark.table(\"steamdatabricks_workspace.external.playtime\")\n",
    "\n",
    "df = df_table.unionByName(df_external)\n",
    "\n",
    "df_incremental = df.groupBy(df.columns).count().filter(col(\"count\") == 1).drop(\"count\")\n",
    "\n",
    "df_incremental.write \\\n",
    "    .format(\"delta\") \\\n",
    "    .mode(\"append\") \\\n",
    "    .partitionBy(\"appid\") \\\n",
    "    .saveAsTable(\"steamdatabricks_workspace.external.playtime\")"
   ]
  },
  {
   "cell_type": "code",
   "execution_count": 0,
   "metadata": {
    "application/vnd.databricks.v1+cell": {
     "cellMetadata": {
      "byteLimit": 2048000,
      "rowLimit": 10000
     },
     "inputWidgets": {},
     "nuid": "b508758d-d49a-4cef-86b0-2433696690bc",
     "showTitle": false,
     "tableResultSettingsMap": {},
     "title": ""
    }
   },
   "outputs": [],
   "source": [
    "df_table = spark.table(\"steamdatabricks_workspace.steam.details_b\")\n",
    "\n",
    "df_external = spark.table(\"steamdatabricks_workspace.external.details\")\n",
    "\n",
    "for field in df_table.schema[\"data\"].dataType.fields:\n",
    "\n",
    "    df_table = df_table.withColumn(field.name, col(\"data.\" + field.name))\n",
    "\n",
    "df_table = df_table.drop('data', 'success')\n",
    "\n",
    "df = df_table.unionByName(df_external)\n",
    "\n",
    "df_incremental = df.groupBy(df.columns).count().filter(col(\"count\") == 1).drop(\"count\")\n",
    "\n",
    "df_incremental.write \\\n",
    "    .format(\"delta\") \\\n",
    "    .mode(\"append\") \\\n",
    "    .partitionBy(\"steam_appid\") \\\n",
    "    .saveAsTable(\"steamdatabricks_workspace.external.details\")"
   ]
  }
 ],
 "metadata": {
  "application/vnd.databricks.v1+notebook": {
   "computePreferences": null,
   "dashboards": [],
   "environmentMetadata": {
    "base_environment": "",
    "environment_version": "3"
   },
   "inputWidgetPreferences": null,
   "language": "python",
   "notebookMetadata": {
    "mostRecentlyExecutedCommandWithImplicitDF": {
     "commandId": 5365663195732797,
     "dataframes": [
      "_sqldf"
     ]
    },
    "pythonIndentUnit": 4
   },
   "notebookName": "external-data",
   "widgets": {}
  },
  "language_info": {
   "name": "python"
  }
 },
 "nbformat": 4,
 "nbformat_minor": 0
}
