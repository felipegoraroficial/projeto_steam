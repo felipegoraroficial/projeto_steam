{
 "cells": [
  {
   "cell_type": "code",
   "execution_count": 0,
   "metadata": {
    "application/vnd.databricks.v1+cell": {
     "cellMetadata": {},
     "inputWidgets": {},
     "nuid": "43ce3463-6103-4cc5-ad49-ba6203688a8a",
     "showTitle": false,
     "tableResultSettingsMap": {},
     "title": ""
    }
   },
   "outputs": [],
   "source": [
    "import dlt\n",
    "from pyspark.sql.types import StructType, StructField, StringType\n",
    "\n",
    "# Schema fixo para o JSON de entrada\n",
    "schema = StructType([\n",
    "    StructField(\"appid\", StringType(), True),\n",
    "    StructField(\"playtime_forever\", StringType(), True),\n",
    "    StructField(\"playtime_windows_forever\", StringType(), True),\n",
    "    StructField(\"playtime_mac_forever\", StringType(), True),\n",
    "    StructField(\"playtime_linux_forever\", StringType(), True),\n",
    "    StructField(\"playtime_deck_forever\", StringType(), True),\n",
    "    StructField(\"rtime_last_played\", StringType(), True),\n",
    "    StructField(\"playtime_disconnected\", StringType(), True)\n",
    "])\n",
    "\n",
    "@dlt.table(\n",
    "    name=\"playtime_b\",\n",
    "    comment=\"Dados de jogos com deduplicação incremental por appid + playtime_forever\"\n",
    ")\n",
    "def playtime_ingesta():\n",
    "    df = (\n",
    "        spark.readStream\n",
    "            .format(\"cloudFiles\")\n",
    "            .option(\"cloudFiles.format\", \"json\")\n",
    "            .schema(schema)\n",
    "            .load(\"/Volumes/steamdatabricks_workspace/steam/playtime/\")\n",
    "    )\n",
    "    # Deduplicação por appid + playtime_forever no batch atual\n",
    "    df = df.dropDuplicates([\"appid\", \"playtime_forever\"])\n",
    "    return df\n"
   ]
  }
 ],
 "metadata": {
  "application/vnd.databricks.v1+notebook": {
   "computePreferences": null,
   "dashboards": [],
   "environmentMetadata": {
    "base_environment": "",
    "environment_version": "2"
   },
   "inputWidgetPreferences": null,
   "language": "python",
   "notebookMetadata": {
    "mostRecentlyExecutedCommandWithImplicitDF": {
     "commandId": 7930789119333145,
     "dataframes": [
      "_sqldf"
     ]
    },
    "pythonIndentUnit": 4
   },
   "notebookName": "ingesta-dlt-playtime",
   "widgets": {}
  },
  "language_info": {
   "name": "python"
  }
 },
 "nbformat": 4,
 "nbformat_minor": 0
}
