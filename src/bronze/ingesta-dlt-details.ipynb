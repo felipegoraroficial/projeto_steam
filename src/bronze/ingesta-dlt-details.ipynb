{
 "cells": [
  {
   "cell_type": "code",
   "execution_count": 0,
   "metadata": {
    "application/vnd.databricks.v1+cell": {
     "cellMetadata": {
      "byteLimit": 2048000,
      "rowLimit": 10000
     },
     "inputWidgets": {},
     "nuid": "daae71e7-f99a-4432-b228-d359361bfd41",
     "showTitle": false,
     "tableResultSettingsMap": {},
     "title": ""
    }
   },
   "outputs": [],
   "source": [
    "import dlt\n",
    "from pyspark.sql.types import StructType, StructField, StringType, BooleanType\n",
    "from pyspark.sql.functions import col, count\n",
    "\n",
    "# Schema fixo para o JSON de entrada\n",
    "schema = StructType([\n",
    "    StructField(\"success\", BooleanType(), True),\n",
    "    StructField(\"data\", StructType([\n",
    "        StructField(\"about_the_game\", StringType(), True),\n",
    "        StructField(\"achievements\", StringType(), True),\n",
    "        StructField(\"background\", StringType(), True),\n",
    "        StructField(\"background_raw\", StringType(), True),\n",
    "        StructField(\"capsule_image\", StringType(), True),\n",
    "        StructField(\"capsule_imagev5\", StringType(), True),\n",
    "        StructField(\"categories\", StringType(), True),\n",
    "        StructField(\"content_descriptors\", StringType(), True),\n",
    "        StructField(\"controller_support\", StringType(), True),\n",
    "        StructField(\"demos\", StringType(), True),\n",
    "        StructField(\"detailed_description\", StringType(), True),\n",
    "        StructField(\"developers\", StringType(), True),\n",
    "        StructField(\"dlc\", StringType(), True),\n",
    "        StructField(\"drm_notice\", StringType(), True),\n",
    "        StructField(\"ext_user_account_notice\", StringType(), True),\n",
    "        StructField(\"genres\", StringType(), True),\n",
    "        StructField(\"header_image\", StringType(), True),\n",
    "        StructField(\"is_free\", StringType(), True),\n",
    "        StructField(\"legal_notice\", StringType(), True),\n",
    "        StructField(\"linux_requirements\", StringType(), True),\n",
    "        StructField(\"mac_requirements\", StringType(), True),\n",
    "        StructField(\"metacritic\", StringType(), True),\n",
    "        StructField(\"movies\", StringType(), True),\n",
    "        StructField(\"name\", StringType(), True),\n",
    "        StructField(\"package_groups\", StringType(), True),\n",
    "        StructField(\"packages\", StringType(), True),\n",
    "        StructField(\"pc_requirements\", StringType(), True),\n",
    "        StructField(\"platforms\", StringType(), True),\n",
    "        StructField(\"price_overview\", StringType(), True),\n",
    "        StructField(\"publishers\", StringType(), True),\n",
    "        StructField(\"ratings\", StringType(), True),\n",
    "        StructField(\"recommendations\", StringType(), True),\n",
    "        StructField(\"release_date\", StringType(), True),\n",
    "        StructField(\"required_age\", StringType(), True),\n",
    "        StructField(\"reviews\", StringType(), True),\n",
    "        StructField(\"screenshots\", StringType(), True),\n",
    "        StructField(\"short_description\", StringType(), True),\n",
    "        StructField(\"steam_appid\", StringType(), True),\n",
    "        StructField(\"support_info\", StringType(), True),\n",
    "        StructField(\"supported_languages\", StringType(), True),\n",
    "        StructField(\"type\", StringType(), True),\n",
    "        StructField(\"website\", StringType(), True)\n",
    "    ]), True)\n",
    "])\n",
    "\n",
    "@dlt.table(\n",
    "    name=\"details_b\",\n",
    "    comment=\"Dados de jogos com deduplicação incremental\"\n",
    ")\n",
    "def details_ingesta():\n",
    "    df = (\n",
    "        spark.readStream\n",
    "            .format(\"cloudFiles\")\n",
    "            .option(\"cloudFiles.format\", \"json\")\n",
    "            .option(\"cloudFiles.includeExistingFiles\", \"true\")\n",
    "            .option(\"multiline\", \"false\")\n",
    "            .schema(schema)\n",
    "            .load(\"/Volumes/steamdatabricks_workspace/steam/details/\")\n",
    "    )\n",
    "\n",
    "    return df\n"
   ]
  }
 ],
 "metadata": {
  "application/vnd.databricks.v1+notebook": {
   "computePreferences": null,
   "dashboards": [],
   "environmentMetadata": {
    "base_environment": "",
    "environment_version": "2"
   },
   "inputWidgetPreferences": null,
   "language": "python",
   "notebookMetadata": {
    "mostRecentlyExecutedCommandWithImplicitDF": {
     "commandId": 7929502154969377,
     "dataframes": [
      "_sqldf"
     ]
    },
    "pythonIndentUnit": 4
   },
   "notebookName": "ingesta-dlt-details",
   "widgets": {}
  },
  "language_info": {
   "name": "python"
  }
 },
 "nbformat": 4,
 "nbformat_minor": 0
}
