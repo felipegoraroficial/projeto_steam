{
 "cells": [
  {
   "cell_type": "code",
   "execution_count": 0,
   "metadata": {
    "application/vnd.databricks.v1+cell": {
     "cellMetadata": {
      "byteLimit": 2048000,
      "rowLimit": 10000
     },
     "inputWidgets": {},
     "nuid": "38199c02-1dcf-4098-9b5f-9a7c0c8d7cea",
     "showTitle": false,
     "tableResultSettingsMap": {},
     "title": ""
    }
   },
   "outputs": [],
   "source": [
    "# Importações necessárias\n",
    "\n",
    "from pyspark.sql.types import StructType, StructField, StringType, BooleanType\n",
    "from pyspark.sql.utils import AnalysisException\n",
    "from pyspark.sql import functions as F"
   ]
  },
  {
   "cell_type": "code",
   "execution_count": 0,
   "metadata": {
    "application/vnd.databricks.v1+cell": {
     "cellMetadata": {
      "byteLimit": 2048000,
      "implicitDf": true,
      "rowLimit": 10000
     },
     "inputWidgets": {},
     "nuid": "32dc3707-c1d2-4132-9313-6b22be8ed502",
     "showTitle": false,
     "tableResultSettingsMap": {},
     "title": ""
    }
   },
   "outputs": [],
   "source": [
    "%sql\n",
    "-- Usando SQL mágico do Databricks para criar schema se não existir\n",
    "CREATE SCHEMA IF NOT EXISTS steam.bronze;"
   ]
  },
  {
   "cell_type": "code",
   "execution_count": 0,
   "metadata": {
    "application/vnd.databricks.v1+cell": {
     "cellMetadata": {
      "byteLimit": 2048000,
      "implicitDf": true,
      "rowLimit": 10000
     },
     "inputWidgets": {},
     "nuid": "27442820-2f96-414e-b3e9-2dd1484a3178",
     "showTitle": false,
     "tableResultSettingsMap": {},
     "title": ""
    }
   },
   "outputs": [],
   "source": [
    "%sql\n",
    "-- Criação da tabela Delta se não existir\n",
    "CREATE TABLE IF NOT EXISTS bronze.details_games (\n",
    "  success BOOLEAN,\n",
    "  data STRUCT<\n",
    "    about_the_game: STRING,\n",
    "    achievements: STRING,\n",
    "    background: STRING,\n",
    "    background_raw: STRING,\n",
    "    capsule_image: STRING,\n",
    "    capsule_imagev5: STRING,\n",
    "    categories: STRING,\n",
    "    content_descriptors: STRING,\n",
    "    controller_support: STRING,\n",
    "    demos: STRING,\n",
    "    detailed_description: STRING,\n",
    "    developers: STRING,\n",
    "    dlc: STRING,\n",
    "    drm_notice: STRING,\n",
    "    ext_user_account_notice: STRING,\n",
    "    genres: STRING,\n",
    "    header_image: STRING,\n",
    "    is_free: STRING,\n",
    "    legal_notice: STRING,\n",
    "    linux_requirements: STRING,\n",
    "    mac_requirements: STRING,\n",
    "    metacritic: STRING,\n",
    "    movies: STRING,\n",
    "    name: STRING,\n",
    "    package_groups: STRING,\n",
    "    packages: STRING,\n",
    "    pc_requirements: STRING,\n",
    "    platforms: STRING,\n",
    "    price_overview: STRING,\n",
    "    publishers: STRING,\n",
    "    ratings: STRING,\n",
    "    recommendations: STRING,\n",
    "    release_date: STRING,\n",
    "    required_age: STRING,\n",
    "    reviews: STRING,\n",
    "    screenshots: STRING,\n",
    "    short_description: STRING,\n",
    "    steam_appid: STRING,\n",
    "    support_info: STRING,\n",
    "    supported_languages: STRING,\n",
    "    type: STRING,\n",
    "    website: STRING\n",
    "  >\n",
    ")\n",
    "USING DELTA\n"
   ]
  },
  {
   "cell_type": "code",
   "execution_count": 0,
   "metadata": {
    "application/vnd.databricks.v1+cell": {
     "cellMetadata": {
      "byteLimit": 2048000,
      "implicitDf": true,
      "rowLimit": 10000
     },
     "inputWidgets": {},
     "nuid": "4576f86a-8da1-423e-90d5-1f0cbeb69a6e",
     "showTitle": false,
     "tableResultSettingsMap": {},
     "title": ""
    }
   },
   "outputs": [],
   "source": [
    "%sql\n",
    "-- Otimização da tabela (Z-Ordering para consultas rápidas)\n",
    "OPTIMIZE details_games\n",
    "ZORDER BY (data)"
   ]
  },
  {
   "cell_type": "code",
   "execution_count": 0,
   "metadata": {
    "application/vnd.databricks.v1+cell": {
     "cellMetadata": {
      "byteLimit": 2048000,
      "rowLimit": 10000
     },
     "inputWidgets": {},
     "nuid": "350b15f4-c40f-435d-a155-97771ceab572",
     "showTitle": false,
     "tableResultSettingsMap": {},
     "title": ""
    }
   },
   "outputs": [],
   "source": [
    "# Definição do schema para leitura dos arquivos JSON\n",
    "\n",
    "schema = StructType([\n",
    "    StructField(\"success\", BooleanType(), True),\n",
    "    StructField(\"data\", StructType([\n",
    "        StructField(\"about_the_game\", StringType(), True),\n",
    "        StructField(\"achievements\", StringType(), True),\n",
    "        StructField(\"background\", StringType(), True),\n",
    "        StructField(\"background_raw\", StringType(), True),\n",
    "        StructField(\"capsule_image\", StringType(), True),\n",
    "        StructField(\"capsule_imagev5\", StringType(), True),\n",
    "        StructField(\"categories\", StringType(), True),\n",
    "        StructField(\"content_descriptors\", StringType(), True),\n",
    "        StructField(\"controller_support\", StringType(), True),\n",
    "        StructField(\"demos\", StringType(), True),\n",
    "        StructField(\"detailed_description\", StringType(), True),\n",
    "        StructField(\"developers\", StringType(), True),\n",
    "        StructField(\"dlc\", StringType(), True),\n",
    "        StructField(\"drm_notice\", StringType(), True),\n",
    "        StructField(\"ext_user_account_notice\", StringType(), True),\n",
    "        StructField(\"genres\", StringType(), True),\n",
    "        StructField(\"header_image\", StringType(), True),\n",
    "        StructField(\"is_free\", StringType(), True),\n",
    "        StructField(\"legal_notice\", StringType(), True),\n",
    "        StructField(\"linux_requirements\", StringType(), True),\n",
    "        StructField(\"mac_requirements\", StringType(), True),\n",
    "        StructField(\"metacritic\", StringType(), True),\n",
    "        StructField(\"movies\", StringType(), True),\n",
    "        StructField(\"name\", StringType(), True),\n",
    "        StructField(\"package_groups\", StringType(), True),\n",
    "        StructField(\"packages\", StringType(), True),\n",
    "        StructField(\"pc_requirements\", StringType(), True),\n",
    "        StructField(\"platforms\", StringType(), True),\n",
    "        StructField(\"price_overview\", StringType(), True),\n",
    "        StructField(\"publishers\", StringType(), True),\n",
    "        StructField(\"ratings\", StringType(), True),\n",
    "        StructField(\"recommendations\", StringType(), True),\n",
    "        StructField(\"release_date\", StringType(), True),\n",
    "        StructField(\"required_age\", StringType(), True),\n",
    "        StructField(\"reviews\", StringType(), True),\n",
    "        StructField(\"screenshots\", StringType(), True),\n",
    "        StructField(\"short_description\", StringType(), True),\n",
    "        StructField(\"steam_appid\", StringType(), True),\n",
    "        StructField(\"support_info\", StringType(), True),\n",
    "        StructField(\"supported_languages\", StringType(), True),\n",
    "        StructField(\"type\", StringType(), True),\n",
    "        StructField(\"website\", StringType(), True)\n",
    "    ]), True)\n",
    "])\n",
    "\n"
   ]
  },
  {
   "cell_type": "code",
   "execution_count": 0,
   "metadata": {
    "application/vnd.databricks.v1+cell": {
     "cellMetadata": {
      "byteLimit": 2048000,
      "rowLimit": 10000
     },
     "inputWidgets": {},
     "nuid": "0eb44112-1062-4eee-812b-c357de5888fe",
     "showTitle": false,
     "tableResultSettingsMap": {},
     "title": ""
    }
   },
   "outputs": [],
   "source": [
    "# Leitura dos dados novos (inbound)\n",
    "\n",
    "df_new = (\n",
    "    spark.read\n",
    "    .schema(schema) # Garante tipagem consistente\n",
    "    .option(\"multiline\", \"true\") # Leitura de arquivo json formatado em várias linhas\n",
    "    .json(\"abfss://steam@steamstorageaccount.dfs.core.windows.net/inbound/details/*.json\")\n",
    ")\n",
    "\n",
    "df_new.cache() # Salvando dataframe em memória"
   ]
  },
  {
   "cell_type": "code",
   "execution_count": 0,
   "metadata": {
    "application/vnd.databricks.v1+cell": {
     "cellMetadata": {
      "byteLimit": 2048000,
      "rowLimit": 10000
     },
     "inputWidgets": {},
     "nuid": "b5840cee-f9f2-4141-b5dd-76474397b16f",
     "showTitle": false,
     "tableResultSettingsMap": {},
     "title": ""
    }
   },
   "outputs": [],
   "source": [
    "# Leitura dos dados existentes na camada bronze\n",
    "\n",
    "try:\n",
    "    df_old = spark.table(\"steam.bronze.details_games\")\n",
    "except AnalysisException:\n",
    "    # Caso a tabela ainda não exista, cria DataFrame vazio\n",
    "    df_old = spark.createDataFrame([], schema)\n",
    "\n",
    "df_old.cache() # Salvando dataframe em memória"
   ]
  },
  {
   "cell_type": "code",
   "execution_count": 0,
   "metadata": {
    "application/vnd.databricks.v1+cell": {
     "cellMetadata": {
      "byteLimit": 2048000,
      "rowLimit": 10000
     },
     "inputWidgets": {},
     "nuid": "c185baf4-d1d5-4225-ace9-2d26339865d4",
     "showTitle": false,
     "tableResultSettingsMap": {},
     "title": ""
    }
   },
   "outputs": [],
   "source": [
    "# Unindo os dados novos com os antigos\n",
    "df = df_new.unionByName(df_old)\n",
    "\n",
    "# Obtendo valores distintos para acrescentar apenas valores incrementais\n",
    "df_incremental = df.groupBy(df.columns).count().filter(F.col(\"count\") == 1).drop(\"count\")"
   ]
  },
  {
   "cell_type": "code",
   "execution_count": 0,
   "metadata": {
    "application/vnd.databricks.v1+cell": {
     "cellMetadata": {
      "byteLimit": 2048000,
      "rowLimit": 10000
     },
     "inputWidgets": {},
     "nuid": "daae71e7-f99a-4432-b228-d359361bfd41",
     "showTitle": false,
     "tableResultSettingsMap": {},
     "title": ""
    }
   },
   "outputs": [],
   "source": [
    "# Escrita na camada bronze\n",
    "\n",
    "df_incremental.write \\\n",
    "    .format(\"delta\") \\\n",
    "    .mode(\"append\") \\\n",
    "    .saveAsTable(\"steam.bronze.details_games\")"
   ]
  }
 ],
 "metadata": {
  "application/vnd.databricks.v1+notebook": {
   "computePreferences": null,
   "dashboards": [],
   "environmentMetadata": {
    "base_environment": "",
    "environment_version": "2"
   },
   "inputWidgetPreferences": null,
   "language": "python",
   "notebookMetadata": {
    "mostRecentlyExecutedCommandWithImplicitDF": {
     "commandId": 7929502154969377,
     "dataframes": [
      "_sqldf"
     ]
    },
    "pythonIndentUnit": 4
   },
   "notebookName": "details",
   "widgets": {}
  },
  "language_info": {
   "name": "python"
  }
 },
 "nbformat": 4,
 "nbformat_minor": 0
}
