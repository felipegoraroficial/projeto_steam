{
 "cells": [
  {
   "cell_type": "code",
   "execution_count": null,
   "id": "3c4b9772",
   "metadata": {},
   "outputs": [],
   "source": [
    "import requests\n",
    "import json\n",
    "from pyspark.sql.functions import current_date, date_format"
   ]
  },
  {
   "cell_type": "code",
   "execution_count": null,
   "id": "1b237c00",
   "metadata": {},
   "outputs": [],
   "source": [
    "df = spark.read.json(\"dbfs:/FileStore/tables/inbound/games_details/*.json\")\n",
    "\n",
    "df = df.withColumn(\"data_ref\", date_format(current_date(), \"yyyy-MM-dd\"))"
   ]
  },
  {
   "cell_type": "code",
   "execution_count": null,
   "id": "7f6f805e",
   "metadata": {},
   "outputs": [],
   "source": [
    "df.write.format(\"delta\") \\\n",
    "    .mode(\"overwrite\") \\\n",
    "    .partitionBy(\"data_ref\") \\\n",
    "    .save(\"dbfs:/FileStore/tables/bronze/games_details\")"
   ]
  }
 ],
 "metadata": {
  "language_info": {
   "name": "python"
  }
 },
 "nbformat": 4,
 "nbformat_minor": 5
}
