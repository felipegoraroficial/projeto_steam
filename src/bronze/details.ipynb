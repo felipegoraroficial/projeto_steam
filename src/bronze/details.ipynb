{
 "cells": [
  {
   "cell_type": "code",
   "execution_count": 0,
   "metadata": {
    "application/vnd.databricks.v1+cell": {
     "cellMetadata": {
      "byteLimit": 2048000,
      "rowLimit": 10000
     },
     "inputWidgets": {},
     "nuid": "350b15f4-c40f-435d-a155-97771ceab572",
     "showTitle": false,
     "tableResultSettingsMap": {},
     "title": ""
    }
   },
   "outputs": [],
   "source": [
    "from pyspark.sql.types import (\n",
    "    StructType, StructField, StringType, LongType, BooleanType, IntegerType, ArrayType, DoubleType\n",
    ")\n",
    "from pyspark.sql.utils import AnalysisException\n",
    "from pyspark.sql import functions as F\n",
    "\n",
    "# Definindo o schema para o JSON baseado na estrutura da tabela\n",
    "schema = StructType([\n",
    "    StructField(\"success\", BooleanType(), True),\n",
    "    StructField(\"data\", StructType([\n",
    "        StructField(\"type\", StringType(), True),\n",
    "        StructField(\"name\", StringType(), True),\n",
    "        StructField(\"steam_appid\", LongType(), True),\n",
    "        StructField(\"required_age\", IntegerType(), True),\n",
    "        StructField(\"is_free\", BooleanType(), True),\n",
    "        StructField(\"detailed_description\", StringType(), True),\n",
    "        StructField(\"about_the_game\", StringType(), True),\n",
    "        StructField(\"short_description\", StringType(), True),\n",
    "        StructField(\"supported_languages\", StringType(), True),\n",
    "        StructField(\"header_image\", StringType(), True),\n",
    "        StructField(\"capsule_image\", StringType(), True),\n",
    "        StructField(\"capsule_imagev5\", StringType(), True),\n",
    "        StructField(\"website\", StringType(), True),\n",
    "        StructField(\"pc_requirements\", StructType([\n",
    "            StructField(\"minimum\", StringType(), True),\n",
    "            StructField(\"recommended\", StringType(), True)\n",
    "        ]), True),\n",
    "        StructField(\"mac_requirements\", StructType([\n",
    "            StructField(\"minimum\", StringType(), True),\n",
    "            StructField(\"recommended\", StringType(), True)\n",
    "        ]), True),\n",
    "        StructField(\"linux_requirements\", StructType([\n",
    "            StructField(\"minimum\", StringType(), True),\n",
    "            StructField(\"recommended\", StringType(), True)\n",
    "        ]), True),\n",
    "        StructField(\"legal_notice\", StringType(), True),\n",
    "        StructField(\"ext_user_account_notice\", StringType(), True),\n",
    "        StructField(\"developers\", ArrayType(StringType()), True),\n",
    "        StructField(\"publishers\", ArrayType(StringType()), True),\n",
    "        StructField(\"price_overview\", StructType([\n",
    "            StructField(\"currency\", StringType(), True),\n",
    "            StructField(\"initial\", LongType(), True),\n",
    "            StructField(\"final\", LongType(), True),\n",
    "            StructField(\"discount_percent\", IntegerType(), True),\n",
    "            StructField(\"initial_formatted\", StringType(), True),\n",
    "            StructField(\"final_formatted\", StringType(), True)\n",
    "        ]), True),\n",
    "        StructField(\"packages\", ArrayType(LongType()), True),\n",
    "        StructField(\"package_groups\", ArrayType(StructType([\n",
    "            StructField(\"name\", StringType(), True),\n",
    "            StructField(\"title\", StringType(), True),\n",
    "            StructField(\"description\", StringType(), True),\n",
    "            StructField(\"selection_text\", StringType(), True),\n",
    "            StructField(\"save_text\", StringType(), True),\n",
    "            StructField(\"display_type\", IntegerType(), True),\n",
    "            StructField(\"is_recurring_subscription\", StringType(), True),\n",
    "            StructField(\"subs\", ArrayType(StructType([\n",
    "                StructField(\"packageid\", LongType(), True),\n",
    "                StructField(\"percent_savings_text\", StringType(), True),\n",
    "                StructField(\"percent_savings\", IntegerType(), True),\n",
    "                StructField(\"option_text\", StringType(), True),\n",
    "                StructField(\"option_description\", StringType(), True),\n",
    "                StructField(\"can_get_free_license\", StringType(), True),\n",
    "                StructField(\"is_free_license\", BooleanType(), True),\n",
    "                StructField(\"price_in_cents_with_discount\", LongType(), True)\n",
    "            ])), True)\n",
    "        ])), True),\n",
    "        StructField(\"platforms\", StructType([\n",
    "            StructField(\"windows\", BooleanType(), True),\n",
    "            StructField(\"mac\", BooleanType(), True),\n",
    "            StructField(\"linux\", BooleanType(), True)\n",
    "        ]), True),\n",
    "        StructField(\"metacritic\", StructType([\n",
    "            StructField(\"score\", IntegerType(), True),\n",
    "            StructField(\"url\", StringType(), True)\n",
    "        ]), True),\n",
    "        StructField(\"categories\", ArrayType(StructType([\n",
    "            StructField(\"id\", IntegerType(), True),\n",
    "            StructField(\"description\", StringType(), True)\n",
    "        ])), True),\n",
    "        StructField(\"genres\", ArrayType(StructType([\n",
    "            StructField(\"id\", StringType(), True),\n",
    "            StructField(\"description\", StringType(), True)\n",
    "        ])), True),\n",
    "        StructField(\"screenshots\", ArrayType(StructType([\n",
    "            StructField(\"id\", IntegerType(), True),\n",
    "            StructField(\"path_thumbnail\", StringType(), True),\n",
    "            StructField(\"path_full\", StringType(), True)\n",
    "        ])), True),\n",
    "        StructField(\"movies\", ArrayType(StructType([\n",
    "            StructField(\"id\", LongType(), True),\n",
    "            StructField(\"name\", StringType(), True),\n",
    "            StructField(\"thumbnail\", StringType(), True),\n",
    "            StructField(\"webm\", StructType([\n",
    "                StructField(\"480\", StringType(), True),\n",
    "                StructField(\"max\", StringType(), True)\n",
    "            ]), True),\n",
    "            StructField(\"mp4\", StructType([\n",
    "                StructField(\"480\", StringType(), True),\n",
    "                StructField(\"max\", StringType(), True)\n",
    "            ]), True),\n",
    "            StructField(\"highlight\", BooleanType(), True)\n",
    "        ])), True),\n",
    "        StructField(\"recommendations\", StructType([\n",
    "            StructField(\"total\", LongType(), True)\n",
    "        ]), True),\n",
    "        StructField(\"achievements\", StructType([\n",
    "            StructField(\"total\", IntegerType(), True),\n",
    "            StructField(\"highlighted\", ArrayType(StructType([\n",
    "                StructField(\"name\", StringType(), True),\n",
    "                StructField(\"path\", StringType(), True)\n",
    "            ])), True)\n",
    "        ]), True),\n",
    "        StructField(\"release_date\", StructType([\n",
    "            StructField(\"coming_soon\", BooleanType(), True),\n",
    "            StructField(\"date\", StringType(), True)\n",
    "        ]), True),\n",
    "        StructField(\"support_info\", StructType([\n",
    "            StructField(\"url\", StringType(), True),\n",
    "            StructField(\"email\", StringType(), True)\n",
    "        ]), True),\n",
    "        StructField(\"background\", StringType(), True),\n",
    "        StructField(\"background_raw\", StringType(), True),\n",
    "        StructField(\"content_descriptors\", StructType([\n",
    "            StructField(\"ids\", ArrayType(IntegerType()), True),\n",
    "            StructField(\"notes\", StringType(), True)\n",
    "        ]), True),\n",
    "        StructField(\"ratings\", StructType([\n",
    "            StructField(\"esrb\", StructType([\n",
    "                StructField(\"rating\", StringType(), True),\n",
    "                StructField(\"use_age_gate\", StringType(), True),\n",
    "                StructField(\"required_age\", StringType(), True),\n",
    "                StructField(\"descriptors\", StringType(), True),\n",
    "                StructField(\"interactive_elements\", StringType(), True)\n",
    "            ]), True),\n",
    "            StructField(\"pegi\", StructType([\n",
    "                StructField(\"rating\", StringType(), True),\n",
    "                StructField(\"descriptors\", StringType(), True)\n",
    "            ]), True),\n",
    "            StructField(\"usk\", StructType([\n",
    "                StructField(\"rating\", StringType(), True),\n",
    "                StructField(\"descriptors\", StringType(), True)\n",
    "            ]), True),\n",
    "            StructField(\"oflc\", StructType([\n",
    "                StructField(\"rating\", StringType(), True),\n",
    "                StructField(\"descriptors\", StringType(), True)\n",
    "            ]), True),\n",
    "            StructField(\"nzoflc\", StructType([\n",
    "                StructField(\"rating\", StringType(), True),\n",
    "                StructField(\"descriptors\", StringType(), True)\n",
    "            ]), True),\n",
    "            StructField(\"kgrb\", StructType([\n",
    "                StructField(\"rating\", StringType(), True),\n",
    "                StructField(\"descriptors\", StringType(), True)\n",
    "            ]), True),\n",
    "            StructField(\"dejus\", StructType([\n",
    "                StructField(\"rating\", StringType(), True),\n",
    "                StructField(\"descriptors\", StringType(), True)\n",
    "            ]), True),\n",
    "            StructField(\"fpb\", StructType([\n",
    "                StructField(\"rating\", StringType(), True),\n",
    "                StructField(\"descriptors\", StringType(), True)\n",
    "            ]), True),\n",
    "            StructField(\"csrr\", StructType([\n",
    "                StructField(\"rating\", StringType(), True),\n",
    "                StructField(\"descriptors\", StringType(), True)\n",
    "            ]), True),\n",
    "            StructField(\"crl\", StructType([\n",
    "                StructField(\"rating\", StringType(), True)\n",
    "            ]), True)\n",
    "        ]), True)\n",
    "    ]), True)\n",
    "])\n",
    "\n"
   ]
  },
  {
   "cell_type": "code",
   "execution_count": 0,
   "metadata": {
    "application/vnd.databricks.v1+cell": {
     "cellMetadata": {
      "byteLimit": 2048000,
      "rowLimit": 10000
     },
     "inputWidgets": {},
     "nuid": "0eb44112-1062-4eee-812b-c357de5888fe",
     "showTitle": false,
     "tableResultSettingsMap": {},
     "title": ""
    }
   },
   "outputs": [],
   "source": [
    "df_new = (\n",
    "    spark.read\n",
    "    .schema(schema)\n",
    "    .option(\"multiline\", \"true\")\n",
    "    .json(\"abfss://steam@steamstorageaccount.dfs.core.windows.net/inbound/details/*.json\")\n",
    ")\n",
    "\n",
    "df_new.cache()"
   ]
  },
  {
   "cell_type": "code",
   "execution_count": 0,
   "metadata": {
    "application/vnd.databricks.v1+cell": {
     "cellMetadata": {
      "byteLimit": 2048000,
      "rowLimit": 10000
     },
     "inputWidgets": {},
     "nuid": "b5840cee-f9f2-4141-b5dd-76474397b16f",
     "showTitle": false,
     "tableResultSettingsMap": {},
     "title": ""
    }
   },
   "outputs": [],
   "source": [
    "try:\n",
    "    df_old = spark.table(\"steam.bronze.details_games\")\n",
    "except AnalysisException:\n",
    "    df_old = spark.createDataFrame([], schema)\n",
    "\n",
    "df_old.cache()"
   ]
  },
  {
   "cell_type": "code",
   "execution_count": 0,
   "metadata": {
    "application/vnd.databricks.v1+cell": {
     "cellMetadata": {
      "byteLimit": 2048000,
      "rowLimit": 10000
     },
     "inputWidgets": {},
     "nuid": "c185baf4-d1d5-4225-ace9-2d26339865d4",
     "showTitle": false,
     "tableResultSettingsMap": {},
     "title": ""
    }
   },
   "outputs": [],
   "source": [
    "df = df_new.unionByName(df_old)"
   ]
  },
  {
   "cell_type": "code",
   "execution_count": 0,
   "metadata": {
    "application/vnd.databricks.v1+cell": {
     "cellMetadata": {
      "byteLimit": 2048000,
      "rowLimit": 10000
     },
     "inputWidgets": {},
     "nuid": "b2eb7e65-5e48-42f0-a991-0830aa549552",
     "showTitle": false,
     "tableResultSettingsMap": {},
     "title": ""
    }
   },
   "outputs": [],
   "source": [
    "df_distinct = df.groupBy(df.columns).count().filter(F.col(\"count\") == 1).drop(\"count\")"
   ]
  },
  {
   "cell_type": "code",
   "execution_count": 0,
   "metadata": {
    "application/vnd.databricks.v1+cell": {
     "cellMetadata": {},
     "inputWidgets": {},
     "nuid": "919e25b4-1f5e-4292-9ef9-5c3a0dfdaf80",
     "showTitle": false,
     "tableResultSettingsMap": {},
     "title": ""
    }
   },
   "outputs": [],
   "source": [
    "spark.sql(\n",
    "    \"\"\"\n",
    "    CREATE SCHEMA IF NOT EXISTS steam.bronze\n",
    "    \"\"\"\n",
    ")"
   ]
  },
  {
   "cell_type": "code",
   "execution_count": 0,
   "metadata": {
    "application/vnd.databricks.v1+cell": {
     "cellMetadata": {
      "byteLimit": 2048000,
      "rowLimit": 10000
     },
     "inputWidgets": {},
     "nuid": "daae71e7-f99a-4432-b228-d359361bfd41",
     "showTitle": false,
     "tableResultSettingsMap": {},
     "title": ""
    }
   },
   "outputs": [],
   "source": [
    "df_distinct.write \\\n",
    "    .format(\"delta\") \\\n",
    "    .mode(\"append\") \\\n",
    "    .saveAsTable(\"steam.bronze.details_games\")"
   ]
  }
 ],
 "metadata": {
  "application/vnd.databricks.v1+notebook": {
   "computePreferences": null,
   "dashboards": [],
   "environmentMetadata": {
    "base_environment": "",
    "environment_version": "2"
   },
   "inputWidgetPreferences": null,
   "language": "python",
   "notebookMetadata": {
    "mostRecentlyExecutedCommandWithImplicitDF": {
     "commandId": -1,
     "dataframes": [
      "_sqldf"
     ]
    },
    "pythonIndentUnit": 4
   },
   "notebookName": "details",
   "widgets": {}
  },
  "language_info": {
   "name": "python"
  }
 },
 "nbformat": 4,
 "nbformat_minor": 0
}
