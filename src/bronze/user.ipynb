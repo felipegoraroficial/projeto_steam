{
 "cells": [
  {
   "cell_type": "code",
   "execution_count": null,
   "id": "7115d11e",
   "metadata": {
    "vscode": {
     "languageId": "plaintext"
    }
   },
   "outputs": [],
   "source": [
    "import requests\n",
    "import json\n",
    "from pyspark.sql.functions import current_date, date_format"
   ]
  },
  {
   "cell_type": "code",
   "execution_count": null,
   "id": "256e7d4d",
   "metadata": {},
   "outputs": [],
   "source": [
    "df = spark.read.json(\"dbfs:/FileStore/tables/inbound/user_details/*.json\")\n",
    "\n",
    "df = df.withColumn(\"data_ref\", date_format(current_date(), \"yyyy-MM-dd\"))"
   ]
  },
  {
   "cell_type": "code",
   "execution_count": null,
   "id": "01ef82fe",
   "metadata": {},
   "outputs": [],
   "source": [
    "df.write.format(\"delta\") \\\n",
    "    .mode(\"overwrite\") \\\n",
    "    .partitionBy(\"data_ref\") \\\n",
    "    .save(\"dbfs:/FileStore/tables/bronze/user_details\")"
   ]
  }
 ],
 "metadata": {
  "language_info": {
   "name": "python"
  }
 },
 "nbformat": 4,
 "nbformat_minor": 5
}
