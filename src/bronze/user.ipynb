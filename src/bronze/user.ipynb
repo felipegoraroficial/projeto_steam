{
 "cells": [
  {
   "cell_type": "code",
   "execution_count": 0,
   "metadata": {
    "application/vnd.databricks.v1+cell": {
     "cellMetadata": {
      "byteLimit": 2048000,
      "rowLimit": 10000
     },
     "inputWidgets": {},
     "nuid": "dab2c1cc-39b9-44ae-86e3-f4991878ca83",
     "showTitle": false,
     "tableResultSettingsMap": {},
     "title": ""
    }
   },
   "outputs": [],
   "source": [
    "# Importações necessárias\n",
    "\n",
    "from pyspark.sql.types import StructType, StructField, StringType\n",
    "from pyspark.sql.utils import AnalysisException\n",
    "from pyspark.sql import functions as F\n",
    "from pyspark.sql.window import Window"
   ]
  },
  {
   "cell_type": "code",
   "execution_count": 0,
   "metadata": {
    "application/vnd.databricks.v1+cell": {
     "cellMetadata": {
      "byteLimit": 2048000,
      "implicitDf": true,
      "rowLimit": 10000
     },
     "inputWidgets": {},
     "nuid": "c1082f67-8ef5-47bd-9743-f73b7f909022",
     "showTitle": false,
     "tableResultSettingsMap": {},
     "title": ""
    }
   },
   "outputs": [],
   "source": [
    "%sql\n",
    "-- Usando SQL mágico do Databricks para criar schema se não existir\n",
    "CREATE SCHEMA IF NOT EXISTS steam.bronze"
   ]
  },
  {
   "cell_type": "code",
   "execution_count": 0,
   "metadata": {
    "application/vnd.databricks.v1+cell": {
     "cellMetadata": {
      "byteLimit": 2048000,
      "implicitDf": true,
      "rowLimit": 10000
     },
     "inputWidgets": {},
     "nuid": "7f6af2ec-645e-4a68-ae2d-f23c029c4d6a",
     "showTitle": false,
     "tableResultSettingsMap": {},
     "title": ""
    }
   },
   "outputs": [],
   "source": [
    "%sql\n",
    "-- Criação da tabela Delta se não existir\n",
    "CREATE TABLE IF NOT EXISTS bronze.user_games (\n",
    "  appid STRING,\n",
    "  playtime_forever STRING,\n",
    "  playtime_windows_forever STRING,\n",
    "  playtime_mac_forever STRING,\n",
    "  playtime_linux_forever STRING,\n",
    "  playtime_deck_forever STRING,\n",
    "  rtime_last_played STRING,\n",
    "  playtime_disconnected STRING\n",
    ")\n",
    "USING DELTA"
   ]
  },
  {
   "cell_type": "code",
   "execution_count": 0,
   "metadata": {
    "application/vnd.databricks.v1+cell": {
     "cellMetadata": {
      "byteLimit": 2048000,
      "implicitDf": true,
      "rowLimit": 10000
     },
     "inputWidgets": {},
     "nuid": "2a47b334-4482-4a80-8543-dfc6dce82f20",
     "showTitle": false,
     "tableResultSettingsMap": {},
     "title": ""
    }
   },
   "outputs": [],
   "source": [
    "%sql\n",
    "-- Otimização da tabela (Z-Ordering para consultas rápidas)\n",
    "OPTIMIZE user_games\n",
    "ZORDER BY (appid, rtime_last_played)"
   ]
  },
  {
   "cell_type": "code",
   "execution_count": 0,
   "metadata": {
    "application/vnd.databricks.v1+cell": {
     "cellMetadata": {
      "byteLimit": 2048000,
      "rowLimit": 10000
     },
     "inputWidgets": {},
     "nuid": "350b15f4-c40f-435d-a155-97771ceab572",
     "showTitle": false,
     "tableResultSettingsMap": {},
     "title": ""
    }
   },
   "outputs": [],
   "source": [
    "# Definição do schema para leitura dos arquivos JSON\n",
    "\n",
    "schema = StructType([\n",
    "    StructField(\"appid\", StringType(), True),\n",
    "    StructField(\"playtime_forever\", StringType(), True),\n",
    "    StructField(\"playtime_windows_forever\", StringType(), True),\n",
    "    StructField(\"playtime_mac_forever\", StringType(), True),\n",
    "    StructField(\"playtime_linux_forever\", StringType(), True),\n",
    "    StructField(\"playtime_deck_forever\", StringType(), True),\n",
    "    StructField(\"rtime_last_played\", StringType(), True),\n",
    "    StructField(\"playtime_disconnected\", StringType(), True)\n",
    "])"
   ]
  },
  {
   "cell_type": "code",
   "execution_count": 0,
   "metadata": {
    "application/vnd.databricks.v1+cell": {
     "cellMetadata": {
      "byteLimit": 2048000,
      "rowLimit": 10000
     },
     "inputWidgets": {},
     "nuid": "0eb44112-1062-4eee-812b-c357de5888fe",
     "showTitle": false,
     "tableResultSettingsMap": {},
     "title": ""
    }
   },
   "outputs": [],
   "source": [
    "# Leitura dos dados novos (inbound)\n",
    "\n",
    "df_new = (\n",
    "    spark.read\n",
    "    .schema(schema) # Garante tipagem consistente\n",
    "    .json(\"abfss://steam@steamstorageaccount.dfs.core.windows.net/inbound/user/*.json\")\n",
    ")\n",
    "\n",
    "df_new.cache() # Salvando dataframe em memória"
   ]
  },
  {
   "cell_type": "code",
   "execution_count": 0,
   "metadata": {
    "application/vnd.databricks.v1+cell": {
     "cellMetadata": {
      "byteLimit": 2048000,
      "rowLimit": 10000
     },
     "inputWidgets": {},
     "nuid": "b5840cee-f9f2-4141-b5dd-76474397b16f",
     "showTitle": false,
     "tableResultSettingsMap": {},
     "title": ""
    }
   },
   "outputs": [],
   "source": [
    "# Leitura dos dados existentes na camada bronze\n",
    "\n",
    "\n",
    "try:\n",
    "    df_old = spark.table(\"steam.bronze.user_games\")\n",
    "except AnalysisException:\n",
    "    # Caso a tabela ainda não exista, cria DataFrame vazio\n",
    "    df_old = spark.createDataFrame([], schema)\n",
    "\n",
    "df_old.cache() # Salvando dataframe em memória"
   ]
  },
  {
   "cell_type": "code",
   "execution_count": 0,
   "metadata": {
    "application/vnd.databricks.v1+cell": {
     "cellMetadata": {
      "byteLimit": 2048000,
      "rowLimit": 10000
     },
     "inputWidgets": {},
     "nuid": "c185baf4-d1d5-4225-ace9-2d26339865d4",
     "showTitle": false,
     "tableResultSettingsMap": {},
     "title": ""
    }
   },
   "outputs": [],
   "source": [
    "# Selecionar apenas novos registro mais recente por appid + playtime_forever\n",
    "\n",
    "# Unindo os dados novos com os antigos\n",
    "df = df_new.unionByName(df_old)\n",
    "\n",
    "# Se houver linhas, pega a mais recente por appid e playtime_forever\n",
    "window_spec = Window.partitionBy(\"appid\", \"playtime_forever\") \\\n",
    "                    .orderBy(F.desc(\"rtime_last_played\"))\n",
    "\n",
    "# Ranqueia os dados selecionando apenas os mais recentes e/ou novos\n",
    "df_incremental = (\n",
    "    df_delta\n",
    "    .withColumn(\"rank\", F.row_number().over(window_spec))\n",
    "    .filter(F.col(\"rank\") == 1)\n",
    "    .drop(\"rank\")\n",
    ")"
   ]
  },
  {
   "cell_type": "code",
   "execution_count": 0,
   "metadata": {
    "application/vnd.databricks.v1+cell": {
     "cellMetadata": {
      "byteLimit": 2048000,
      "rowLimit": 10000
     },
     "inputWidgets": {},
     "nuid": "daae71e7-f99a-4432-b228-d359361bfd41",
     "showTitle": false,
     "tableResultSettingsMap": {},
     "title": ""
    }
   },
   "outputs": [],
   "source": [
    "# Escrita na camada bronze\n",
    "df_incremental.write \\\n",
    "    .format(\"delta\") \\\n",
    "    .mode(\"append\") \\\n",
    "    .saveAsTable(\"steam.bronze.user_games\")"
   ]
  }
 ],
 "metadata": {
  "application/vnd.databricks.v1+notebook": {
   "computePreferences": null,
   "dashboards": [],
   "environmentMetadata": {
    "base_environment": "",
    "environment_version": "2"
   },
   "inputWidgetPreferences": null,
   "language": "python",
   "notebookMetadata": {
    "mostRecentlyExecutedCommandWithImplicitDF": {
     "commandId": 7930789119333145,
     "dataframes": [
      "_sqldf"
     ]
    },
    "pythonIndentUnit": 4
   },
   "notebookName": "user",
   "widgets": {}
  },
  "language_info": {
   "name": "python"
  }
 },
 "nbformat": 4,
 "nbformat_minor": 0
}
