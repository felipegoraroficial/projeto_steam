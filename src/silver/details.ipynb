{
 "cells": [
  {
   "cell_type": "code",
   "execution_count": null,
   "id": "fce8fd73",
   "metadata": {},
   "outputs": [],
   "source": [
    "from pyspark.sql.functions import col, regexp_replace, split, explode, trim, regexp_extract, expr, array_distinct\n",
    "from pyspark.sql.types import IntegerType"
   ]
  },
  {
   "cell_type": "code",
   "execution_count": null,
   "id": "a8da3928",
   "metadata": {},
   "outputs": [],
   "source": [
    "df = spark.read.format('delta').load(\"dbfs:/FileStore/tables/bronze/games_details\")"
   ]
  },
  {
   "cell_type": "code",
   "execution_count": null,
   "id": "bd3802b3",
   "metadata": {},
   "outputs": [],
   "source": [
    "df = df\n",
    "for field in df.schema[\"data\"].dataType.fields:\n",
    "    df = df.withColumn(field.name, col(\"data.\" + field.name))\n",
    "\n",
    "df = df.drop('data','success')"
   ]
  },
  {
   "cell_type": "code",
   "execution_count": null,
   "id": "881e3cc8",
   "metadata": {},
   "outputs": [],
   "source": [
    "def chave_explode(df,column_key):\n",
    "\n",
    "    # Remove colchetes externos\n",
    "    df = df.withColumn(\n",
    "        \"column_clean\",\n",
    "        regexp_replace(column_key, r'^\\[|\\]$', \"\")\n",
    "    )\n",
    "\n",
    "    # Separa por \"}, {\"\n",
    "    df = df.withColumn(\n",
    "        \"column_parts\",\n",
    "        split(regexp_replace(\"column_clean\", r'\\}, \\{', '}|{'), r'\\}\\|\\{')\n",
    "    )\n",
    "\n",
    "    # Explode em linhas\n",
    "    df = df.withColumn(\"column_str\", explode(\"column_parts\"))\n",
    "\n",
    "    # Remove chaves { }\n",
    "    df = df.withColumn(\n",
    "        \"column_str\",\n",
    "        regexp_replace(\"column_str\", r'[\\{\\}]', \"\")\n",
    "    )\n",
    "\n",
    "    # Separa pelos campos (description=..., id=...)\n",
    "    df = (\n",
    "        df.withColumn(\"description\", trim(regexp_extract(\"column_str\", r'description=([^,]+)', 1)))\n",
    "            .withColumn(\"id\", regexp_extract(\"column_str\", r'id=(\\d+)', 1).cast(IntegerType()))\n",
    "    )\n",
    "\n",
    "    df = df.select(\"steam_appid\", \"id\", \"description\")\n",
    "\n",
    "    return df"
   ]
  },
  {
   "cell_type": "code",
   "execution_count": null,
   "id": "14d66f4f",
   "metadata": {},
   "outputs": [],
   "source": [
    "genre = df.select('steam_appid','genres')\n",
    "genre = chave_explode(genre,'genres')\n",
    "categories = df.select('steam_appid','categories')\n",
    "categories = chave_explode(categories,'categories')"
   ]
  },
  {
   "cell_type": "code",
   "execution_count": null,
   "id": "a777b01f",
   "metadata": {},
   "outputs": [],
   "source": [
    "\n",
    "def langueges_list(df,column_key):\n",
    "\n",
    "    # 1️⃣ Remover tags <strong> e </strong>\n",
    "    df = df.withColumn(\n",
    "        \"column_clean\",\n",
    "        regexp_replace(column_key, r'<strong>|</strong>', \"\")\n",
    "    )\n",
    "\n",
    "    # 2️⃣ Remover tudo após <br> (inclusive ele)\n",
    "    df = df.withColumn(\n",
    "        \"column_clean\",\n",
    "        regexp_replace(\"column_clean\", r'<br>.*$', \"\")\n",
    "    )\n",
    "\n",
    "    # 3️⃣ Remover asterisco (*)\n",
    "    df = df.withColumn(\n",
    "        \"column_clean\",\n",
    "        regexp_replace(\"column_clean\", r'\\*', \"\")\n",
    "    )\n",
    "\n",
    "    # 4️⃣ Quebrar string em array usando vírgula\n",
    "    df = df.withColumn(\n",
    "        \"column_array\",\n",
    "        split(\"column_clean\", r'\\s*,\\s*')\n",
    "    )\n",
    "\n",
    "    # 5️⃣ Tirar espaços extras de cada elemento (higher-order function)\n",
    "    df = df.withColumn(\n",
    "        \"column_array\",\n",
    "        expr(\"transform(column_array, x -> trim(x))\")\n",
    "    )\n",
    "\n",
    "    # 6️⃣ Remover duplicatas no array (se houver)\n",
    "    df = df.withColumn(\n",
    "        \"languages\",\n",
    "        array_distinct(\"column_array\")\n",
    "    )\n",
    "\n",
    "    df = df.select('steam_appid','languages')\n",
    "    \n",
    "    return df\n"
   ]
  },
  {
   "cell_type": "code",
   "execution_count": null,
   "id": "bfe90963",
   "metadata": {},
   "outputs": [],
   "source": [
    "languages = df.select('steam_appid','supported_languages')\n",
    "languages = langueges_list(languages,'supported_languages')"
   ]
  },
  {
   "cell_type": "code",
   "execution_count": null,
   "id": "d19d3b72",
   "metadata": {},
   "outputs": [],
   "source": [
    "def extract_min_requirements(df, col):\n",
    "    # 1️⃣ Extrair apenas o conteúdo após 'minimum=' (antes de ', recommended=' se existir)\n",
    "    df = df.withColumn(\n",
    "        \"min_part\", \n",
    "        regexp_extract(col, r\"minimum=(.*?)(?:,\\s*recommended=|$)\", 1)\n",
    "    )\n",
    "\n",
    "    # 2️⃣ Remover tags HTML genéricas\n",
    "    df = df.withColumn(\n",
    "        \"min_clean\",\n",
    "        regexp_replace(\"min_part\", r\"<.*?>\", \" \")\n",
    "    )\n",
    "\n",
    "    # 3️⃣ Normalizar espaços\n",
    "    df = df.withColumn(\n",
    "        \"min_clean\",\n",
    "        regexp_replace(\"min_clean\", r\"\\s+\", \" \")\n",
    "    )\n",
    "\n",
    "    # 4️⃣ Extrair cada campo usando regex específico\n",
    "    df = df.withColumn(\n",
    "        \"OS\",\n",
    "        trim(regexp_extract(\"min_clean\", r\"OS:\\s*([^P|M|G|S]+)\", 1))\n",
    "    ).withColumn(\n",
    "        \"Processor\",\n",
    "        trim(regexp_extract(\"min_clean\", r\"Processor:\\s*([^M|G|S]+)\", 1))\n",
    "    ).withColumn(\n",
    "        \"Memory\",\n",
    "        trim(regexp_extract(\"min_clean\", r\"Memory:\\s*([^G|S]+)\", 1))\n",
    "    ).withColumn(\n",
    "        \"Graphics\",\n",
    "        trim(regexp_extract(\"min_clean\", r\"Graphics:\\s*([^S]+)\", 1))\n",
    "    ).withColumn(\n",
    "        \"Storage\",\n",
    "        trim(regexp_extract(\"min_clean\", r\"Storage:\\s*([^A]+)\", 1))\n",
    "    )\n",
    "\n",
    "    # 5️⃣ Resultado final: colunas desejadas\n",
    "    return df.drop(\"min_part\", \"min_clean\")\n"
   ]
  },
  {
   "cell_type": "code",
   "execution_count": null,
   "id": "eee7f7e0",
   "metadata": {},
   "outputs": [],
   "source": [
    "requirements = df.select(\"steam_appid\",\"pc_requirements\")\n",
    "requirements = extract_min_requirements(requirements, \"pc_requirements\")\n",
    "requirements = requirements.select(\"steam_appid\",\"OS\", \"Processor\", \"Memory\", \"Graphics\", \"Storage\")"
   ]
  },
  {
   "cell_type": "code",
   "execution_count": null,
   "id": "265f84e6",
   "metadata": {},
   "outputs": [],
   "source": [
    "def get_price(df,column_key):\n",
    "\n",
    "    df = df.withColumn(\n",
    "        \"Currency\",\n",
    "        regexp_extract(column_key, r\"currency=([A-Z]{3})\", 1)\n",
    "    ).withColumn(\n",
    "        \"Price\",\n",
    "        regexp_extract(column_key, r\"final=(\\d+)\", 1).cast(\"int\")\n",
    "    )\n",
    "\n",
    "    df = df.select(\"steam_appid\",\"Currency\",\"Price\")\n",
    "\n",
    "    return df\n"
   ]
  },
  {
   "cell_type": "code",
   "execution_count": null,
   "id": "5266ada0",
   "metadata": {},
   "outputs": [],
   "source": [
    "price = df.select(\"steam_appid\",\"price_overview\")\n",
    "price = get_price(price, \"price_overview\")"
   ]
  },
  {
   "cell_type": "code",
   "execution_count": null,
   "id": "e545252c",
   "metadata": {},
   "outputs": [],
   "source": [
    "def get_publishers(df, column_key):\n",
    "\n",
    "    # 1. Remove o colchete esquerdo '[' (pode remover o direito também, se quiser)\n",
    "    df = df.withColumn(\"publishers_clean\", regexp_replace(col(column_key), r\"^\\[|\\]$\", \"\"))\n",
    "\n",
    "    # 2. Separa por vírgula (caso tenha múltiplos valores, ainda que no seu exemplo não tem), resultando em um array\n",
    "    df = df.withColumn(\"publishers_array\", split(col(\"publishers_clean\"), \",\"))\n",
    "\n",
    "    # 3. Pega o primeiro valor do array e remove espaços extras\n",
    "    df = df.withColumn(column_key, trim(col(\"publishers_array\").getItem(0)))\n",
    "\n",
    "    return df\n",
    "    "
   ]
  },
  {
   "cell_type": "code",
   "execution_count": null,
   "id": "8cc4e3c8",
   "metadata": {},
   "outputs": [],
   "source": [
    "df = get_publishers(df, 'publishers')"
   ]
  },
  {
   "cell_type": "code",
   "execution_count": null,
   "id": "df23ae0d",
   "metadata": {},
   "outputs": [],
   "source": [
    "df = df.select('steam_appid','name','type','header_image','is_free','publishers','required_age','website','short_description')"
   ]
  },
  {
   "cell_type": "code",
   "execution_count": null,
   "id": "684dc75f",
   "metadata": {},
   "outputs": [],
   "source": [
    "# Faz o left join sequencial\n",
    "df_joined = df.join(genre, on=\"steam_appid\", how=\"left\") \\\n",
    "              .join(categories, on=\"steam_appid\", how=\"left\") \\\n",
    "              .join(languages, on=\"steam_appid\", how=\"left\") \\\n",
    "              .join(requirements, on=\"steam_appid\", how=\"left\") \\\n",
    "              .join(price, on=\"steam_appid\", how=\"left\")"
   ]
  }
 ],
 "metadata": {
  "language_info": {
   "name": "python"
  }
 },
 "nbformat": 4,
 "nbformat_minor": 5
}
