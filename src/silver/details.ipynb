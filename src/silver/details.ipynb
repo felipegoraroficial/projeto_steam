{
 "cells": [
  {
   "cell_type": "code",
   "execution_count": 0,
   "metadata": {
    "application/vnd.databricks.v1+cell": {
     "cellMetadata": {
      "byteLimit": 2048000,
      "rowLimit": 10000
     },
     "inputWidgets": {},
     "nuid": "7c103e01-b673-4c52-bd61-c585f0e76b76",
     "showTitle": false,
     "tableResultSettingsMap": {},
     "title": ""
    }
   },
   "outputs": [],
   "source": [
    "from pyspark.sql.functions import col, regexp_replace, split, explode, trim, regexp_extract, expr, array_distinct\n",
    "from pyspark.sql.types import IntegerType"
   ]
  },
  {
   "cell_type": "code",
   "execution_count": 0,
   "metadata": {
    "application/vnd.databricks.v1+cell": {
     "cellMetadata": {
      "byteLimit": 2048000,
      "rowLimit": 10000
     },
     "inputWidgets": {},
     "nuid": "a80dc6d7-9f89-4b7b-8c93-e8810bcaff18",
     "showTitle": false,
     "tableResultSettingsMap": {},
     "title": ""
    }
   },
   "outputs": [],
   "source": [
    "df = spark.table(\"steam.bronze.details_games\")"
   ]
  },
  {
   "cell_type": "code",
   "execution_count": 0,
   "metadata": {
    "application/vnd.databricks.v1+cell": {
     "cellMetadata": {
      "byteLimit": 2048000,
      "rowLimit": 10000
     },
     "inputWidgets": {},
     "nuid": "f52a2cf1-28d9-4fc4-85dc-6eb55ce741fe",
     "showTitle": false,
     "tableResultSettingsMap": {},
     "title": ""
    }
   },
   "outputs": [],
   "source": [
    "df = df\n",
    "for field in df.schema[\"data\"].dataType.fields:\n",
    "    df = df.withColumn(field.name, col(\"data.\" + field.name))\n",
    "\n",
    "df = df.drop('data','success')"
   ]
  },
  {
   "cell_type": "code",
   "execution_count": 0,
   "metadata": {
    "application/vnd.databricks.v1+cell": {
     "cellMetadata": {
      "byteLimit": 2048000,
      "rowLimit": 10000
     },
     "inputWidgets": {},
     "nuid": "c565ed65-83c9-4b62-9c85-85ba2b98de73",
     "showTitle": false,
     "tableResultSettingsMap": {},
     "title": ""
    }
   },
   "outputs": [],
   "source": [
    "def chave_explode(df,column_key):\n",
    "\n",
    "    # Remove colchetes externos\n",
    "    df = df.withColumn(\n",
    "        \"column_clean\",\n",
    "        regexp_replace(column_key, r'^\\[|\\]$', \"\")\n",
    "    )\n",
    "\n",
    "    # Separa por \"}, {\"\n",
    "    df = df.withColumn(\n",
    "        \"column_parts\",\n",
    "        split(regexp_replace(\"column_clean\", r'\\}, \\{', '}|{'), r'\\}\\|\\{')\n",
    "    )\n",
    "\n",
    "    # Explode em linhas\n",
    "    df = df.withColumn(\"column_str\", explode(\"column_parts\"))\n",
    "\n",
    "    # Remove chaves { }\n",
    "    df = df.withColumn(\n",
    "        \"column_str\",\n",
    "        regexp_replace(\"column_str\", r'[\\{\\}]', \"\")\n",
    "    )\n",
    "\n",
    "    # Separa pelos campos (description=..., id=...)\n",
    "    df = (\n",
    "        df.withColumn(\"description\", trim(regexp_extract(\"column_str\", r'description=([^,]+)', 1)))\n",
    "            .withColumn(\"id\", regexp_extract(\"column_str\", r'id=(\\d+)', 1).cast(IntegerType()))\n",
    "    )\n",
    "\n",
    "    df = df.select(\"steam_appid\", \"id\", \"description\")\n",
    "\n",
    "    return df"
   ]
  },
  {
   "cell_type": "code",
   "execution_count": 0,
   "metadata": {
    "application/vnd.databricks.v1+cell": {
     "cellMetadata": {
      "byteLimit": 2048000,
      "rowLimit": 10000
     },
     "inputWidgets": {},
     "nuid": "ae60243c-7079-45af-b5a8-6a50a44fc1a1",
     "showTitle": false,
     "tableResultSettingsMap": {},
     "title": ""
    }
   },
   "outputs": [],
   "source": [
    "genre = df.select('steam_appid','genres')\n",
    "genre = chave_explode(genre,'genres')\n",
    "genre = genre.withColumnRenamed('id', 'id_genres') \\\n",
    "             .withColumnRenamed('description', 'description_genres')\n",
    "\n",
    "categories = df.select('steam_appid','categories')\n",
    "categories = chave_explode(categories,'categories')\n",
    "categories = categories.withColumnRenamed('id', 'id_categories') \\\n",
    "             .withColumnRenamed('description', 'description_categories')"
   ]
  },
  {
   "cell_type": "code",
   "execution_count": 0,
   "metadata": {
    "application/vnd.databricks.v1+cell": {
     "cellMetadata": {
      "byteLimit": 2048000,
      "rowLimit": 10000
     },
     "inputWidgets": {},
     "nuid": "f42e00e8-bd5c-437c-8b0f-23b603ee1c89",
     "showTitle": false,
     "tableResultSettingsMap": {},
     "title": ""
    }
   },
   "outputs": [],
   "source": [
    "\n",
    "def langueges_list(df,column_key):\n",
    "\n",
    "    # 1️⃣ Remover tags <strong> e </strong>\n",
    "    df = df.withColumn(\n",
    "        \"column_clean\",\n",
    "        regexp_replace(column_key, r'<strong>|</strong>', \"\")\n",
    "    )\n",
    "\n",
    "    # 2️⃣ Remover tudo após <br> (inclusive ele)\n",
    "    df = df.withColumn(\n",
    "        \"column_clean\",\n",
    "        regexp_replace(\"column_clean\", r'<br>.*$', \"\")\n",
    "    )\n",
    "\n",
    "    # 3️⃣ Remover asterisco (*)\n",
    "    df = df.withColumn(\n",
    "        \"column_clean\",\n",
    "        regexp_replace(\"column_clean\", r'\\*', \"\")\n",
    "    )\n",
    "\n",
    "    # 4️⃣ Quebrar string em array usando vírgula\n",
    "    df = df.withColumn(\n",
    "        \"column_array\",\n",
    "        split(\"column_clean\", r'\\s*,\\s*')\n",
    "    )\n",
    "\n",
    "    # 5️⃣ Tirar espaços extras de cada elemento (higher-order function)\n",
    "    df = df.withColumn(\n",
    "        \"column_array\",\n",
    "        expr(\"transform(column_array, x -> trim(x))\")\n",
    "    )\n",
    "\n",
    "    # 6️⃣ Remover duplicatas no array (se houver)\n",
    "    df = df.withColumn(\n",
    "        \"languages\",\n",
    "        array_distinct(\"column_array\")\n",
    "    )\n",
    "\n",
    "    df = df.select('steam_appid','languages')\n",
    "    \n",
    "    return df\n"
   ]
  },
  {
   "cell_type": "code",
   "execution_count": 0,
   "metadata": {
    "application/vnd.databricks.v1+cell": {
     "cellMetadata": {
      "byteLimit": 2048000,
      "rowLimit": 10000
     },
     "inputWidgets": {},
     "nuid": "8e33f906-0516-4263-bdd1-e4a8fa20f7fc",
     "showTitle": false,
     "tableResultSettingsMap": {},
     "title": ""
    }
   },
   "outputs": [],
   "source": [
    "languages = df.select('steam_appid','supported_languages')\n",
    "languages = langueges_list(languages,'supported_languages')"
   ]
  },
  {
   "cell_type": "code",
   "execution_count": 0,
   "metadata": {
    "application/vnd.databricks.v1+cell": {
     "cellMetadata": {
      "byteLimit": 2048000,
      "rowLimit": 10000
     },
     "inputWidgets": {},
     "nuid": "d88074f1-7a58-45d2-b8ca-0ca40672d76d",
     "showTitle": false,
     "tableResultSettingsMap": {},
     "title": ""
    }
   },
   "outputs": [],
   "source": [
    "def extract_min_requirements(df, col):\n",
    "    # 1️⃣ Extrair apenas o conteúdo após 'minimum=' (antes de ', recommended=' se existir)\n",
    "    df = df.withColumn(\n",
    "        \"min_part\", \n",
    "        regexp_extract(col, r\"minimum=(.*?)(?:,\\s*recommended=|$)\", 1)\n",
    "    )\n",
    "\n",
    "    # 2️⃣ Remover tags HTML genéricas\n",
    "    df = df.withColumn(\n",
    "        \"min_clean\",\n",
    "        regexp_replace(\"min_part\", r\"<.*?>\", \" \")\n",
    "    )\n",
    "\n",
    "    # 3️⃣ Normalizar espaços\n",
    "    df = df.withColumn(\n",
    "        \"min_clean\",\n",
    "        regexp_replace(\"min_clean\", r\"\\s+\", \" \")\n",
    "    )\n",
    "\n",
    "    # 4️⃣ Extrair cada campo usando regex específico\n",
    "    df = df.withColumn(\n",
    "        \"OS\",\n",
    "        trim(regexp_extract(\"min_clean\", r\"OS:\\s*([^P|M|G|S]+)\", 1))\n",
    "    ).withColumn(\n",
    "        \"Processor\",\n",
    "        trim(regexp_extract(\"min_clean\", r\"Processor:\\s*([^M|G|S]+)\", 1))\n",
    "    ).withColumn(\n",
    "        \"Memory\",\n",
    "        trim(regexp_extract(\"min_clean\", r\"Memory:\\s*([^G|S]+)\", 1))\n",
    "    ).withColumn(\n",
    "        \"Graphics\",\n",
    "        trim(regexp_extract(\"min_clean\", r\"Graphics:\\s*([^S]+)\", 1))\n",
    "    ).withColumn(\n",
    "        \"Storage\",\n",
    "        trim(regexp_extract(\"min_clean\", r\"Storage:\\s*([^A]+)\", 1))\n",
    "    )\n",
    "\n",
    "    # 5️⃣ Resultado final: colunas desejadas\n",
    "    return df.drop(\"min_part\", \"min_clean\")\n"
   ]
  },
  {
   "cell_type": "code",
   "execution_count": 0,
   "metadata": {
    "application/vnd.databricks.v1+cell": {
     "cellMetadata": {
      "byteLimit": 2048000,
      "rowLimit": 10000
     },
     "inputWidgets": {},
     "nuid": "40896a42-790c-44b1-95d0-36659461ce62",
     "showTitle": false,
     "tableResultSettingsMap": {},
     "title": ""
    }
   },
   "outputs": [],
   "source": [
    "requirements = df.select(\"steam_appid\",\"pc_requirements\")\n",
    "requirements = extract_min_requirements(requirements, \"pc_requirements\")\n",
    "requirements = requirements.select(\"steam_appid\",\"OS\", \"Processor\", \"Memory\", \"Graphics\", \"Storage\")"
   ]
  },
  {
   "cell_type": "code",
   "execution_count": 0,
   "metadata": {
    "application/vnd.databricks.v1+cell": {
     "cellMetadata": {
      "byteLimit": 2048000,
      "rowLimit": 10000
     },
     "inputWidgets": {},
     "nuid": "ec7ae368-7a00-4c96-a051-19a3a9c9768d",
     "showTitle": false,
     "tableResultSettingsMap": {},
     "title": ""
    }
   },
   "outputs": [],
   "source": [
    "def get_price(df,column_key):\n",
    "\n",
    "    df = df.withColumn(\n",
    "        \"Currency\",\n",
    "        regexp_extract(column_key, r\"currency=([A-Z]{3})\", 1)\n",
    "    ).withColumn(\n",
    "        \"Price\",\n",
    "        regexp_extract(column_key, r\"final=(\\d+)\", 1).cast(\"int\")\n",
    "    )\n",
    "\n",
    "    df = df.select(\"steam_appid\",\"Currency\",\"Price\")\n",
    "\n",
    "    return df\n"
   ]
  },
  {
   "cell_type": "code",
   "execution_count": 0,
   "metadata": {
    "application/vnd.databricks.v1+cell": {
     "cellMetadata": {
      "byteLimit": 2048000,
      "rowLimit": 10000
     },
     "inputWidgets": {},
     "nuid": "8817496f-0a81-4905-9468-0fb51d31be43",
     "showTitle": false,
     "tableResultSettingsMap": {},
     "title": ""
    }
   },
   "outputs": [],
   "source": [
    "price = df.select(\"steam_appid\",\"price_overview\")\n",
    "price = get_price(price, \"price_overview\")"
   ]
  },
  {
   "cell_type": "code",
   "execution_count": 0,
   "metadata": {
    "application/vnd.databricks.v1+cell": {
     "cellMetadata": {
      "byteLimit": 2048000,
      "rowLimit": 10000
     },
     "inputWidgets": {},
     "nuid": "d22af001-5eaf-4d89-a651-a26a1f57ee01",
     "showTitle": false,
     "tableResultSettingsMap": {},
     "title": ""
    }
   },
   "outputs": [],
   "source": [
    "def get_publishers(df, column_key):\n",
    "\n",
    "    # 1. Remove o colchete esquerdo '[' (pode remover o direito também, se quiser)\n",
    "    df = df.withColumn(\"publishers_clean\", regexp_replace(col(column_key), r\"^\\[|\\]$\", \"\"))\n",
    "\n",
    "    # 2. Separa por vírgula (caso tenha múltiplos valores, ainda que no seu exemplo não tem), resultando em um array\n",
    "    df = df.withColumn(\"publishers_array\", split(col(\"publishers_clean\"), \",\"))\n",
    "\n",
    "    # 3. Pega o primeiro valor do array e remove espaços extras\n",
    "    df = df.withColumn(column_key, trim(col(\"publishers_array\").getItem(0)))\n",
    "\n",
    "    return df\n",
    "    "
   ]
  },
  {
   "cell_type": "code",
   "execution_count": 0,
   "metadata": {
    "application/vnd.databricks.v1+cell": {
     "cellMetadata": {
      "byteLimit": 2048000,
      "rowLimit": 10000
     },
     "inputWidgets": {},
     "nuid": "82f5f168-1721-41c8-84fc-3b31e8585d90",
     "showTitle": false,
     "tableResultSettingsMap": {},
     "title": ""
    }
   },
   "outputs": [],
   "source": [
    "df = get_publishers(df, 'publishers')"
   ]
  },
  {
   "cell_type": "code",
   "execution_count": 0,
   "metadata": {
    "application/vnd.databricks.v1+cell": {
     "cellMetadata": {
      "byteLimit": 2048000,
      "rowLimit": 10000
     },
     "inputWidgets": {},
     "nuid": "220f2286-4fb7-41ee-98a7-a373f0463d5f",
     "showTitle": false,
     "tableResultSettingsMap": {},
     "title": ""
    }
   },
   "outputs": [],
   "source": [
    "df = df.select('steam_appid','name','type','header_image','is_free','publishers','required_age','website','short_description')"
   ]
  },
  {
   "cell_type": "code",
   "execution_count": 0,
   "metadata": {
    "application/vnd.databricks.v1+cell": {
     "cellMetadata": {
      "byteLimit": 2048000,
      "rowLimit": 10000
     },
     "inputWidgets": {},
     "nuid": "f3d28273-6289-47dd-b74f-d3369309c27a",
     "showTitle": false,
     "tableResultSettingsMap": {},
     "title": ""
    }
   },
   "outputs": [],
   "source": [
    "# Faz o left join sequencial\n",
    "df_joined = df.join(genre, on=\"steam_appid\", how=\"left\") \\\n",
    "              .join(categories, on=\"steam_appid\", how=\"left\") \\\n",
    "              .join(languages, on=\"steam_appid\", how=\"left\") \\\n",
    "              .join(requirements, on=\"steam_appid\", how=\"left\") \\\n",
    "              .join(price, on=\"steam_appid\", how=\"left\")"
   ]
  },
  {
   "cell_type": "code",
   "execution_count": 0,
   "metadata": {
    "application/vnd.databricks.v1+cell": {
     "cellMetadata": {
      "byteLimit": 2048000,
      "rowLimit": 10000
     },
     "inputWidgets": {},
     "nuid": "119e7b48-3d2d-432e-a7ed-3b364595c643",
     "showTitle": false,
     "tableResultSettingsMap": {},
     "title": ""
    }
   },
   "outputs": [],
   "source": [
    "df_joined.write \\\n",
    "    .format(\"delta\") \\\n",
    "    .mode(\"overwrite\") \\\n",
    "    .saveAsTable(\"steam.silver.details_games\")"
   ]
  }
 ],
 "metadata": {
  "application/vnd.databricks.v1+notebook": {
   "computePreferences": null,
   "dashboards": [],
   "environmentMetadata": null,
   "inputWidgetPreferences": null,
   "language": "python",
   "notebookMetadata": {
    "pythonIndentUnit": 4
   },
   "notebookName": "details",
   "widgets": {}
  },
  "language_info": {
   "name": "python"
  }
 },
 "nbformat": 4,
 "nbformat_minor": 0
}
