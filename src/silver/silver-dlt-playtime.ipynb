{
 "cells": [
  {
   "cell_type": "code",
   "execution_count": 0,
   "metadata": {
    "application/vnd.databricks.v1+cell": {
     "cellMetadata": {},
     "inputWidgets": {},
     "nuid": "c0edad62-3bbd-475f-a906-f96bdeb126b0",
     "showTitle": false,
     "tableResultSettingsMap": {},
     "title": ""
    }
   },
   "outputs": [],
   "source": [
    "import dlt\n",
    "from pyspark.sql.functions import from_unixtime, col, round\n",
    "\n",
    "@dlt.table(\n",
    "    name=\"playtime_s\",\n",
    "    comment=\"Dados playtime convertidos e filtrados para a camada silver\"\n",
    ")\n",
    "def playtime_silver():\n",
    "    df = dlt.read(\"steamdatabricks_workspace.steam.playtime_b\")\n",
    "\n",
    "    df_transformed = (\n",
    "        df.withColumn('rtime_last_played', from_unixtime(col('rtime_last_played')).cast('timestamp'))\n",
    "          .withColumn('playtime_forever', round(col('playtime_forever') / 60, 2).cast('double'))\n",
    "          .filter(col('playtime_forever') > 0.00)\n",
    "          .withColumn('appid', col('appid').cast('int'))\n",
    "          .select('appid', 'playtime_forever', 'rtime_last_played')\n",
    "    )\n",
    "\n",
    "    return df_transformed"
   ]
  }
 ],
 "metadata": {
  "application/vnd.databricks.v1+notebook": {
   "computePreferences": null,
   "dashboards": [],
   "environmentMetadata": null,
   "inputWidgetPreferences": null,
   "language": "python",
   "notebookMetadata": {
    "mostRecentlyExecutedCommandWithImplicitDF": {
     "commandId": 5409335137867601,
     "dataframes": [
      "_sqldf"
     ]
    },
    "pythonIndentUnit": 4
   },
   "notebookName": "silver-dlt-playtime",
   "widgets": {}
  },
  "language_info": {
   "name": "python"
  }
 },
 "nbformat": 4,
 "nbformat_minor": 0
}
