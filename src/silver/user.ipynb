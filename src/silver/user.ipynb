{
 "cells": [
  {
   "cell_type": "code",
   "execution_count": 0,
   "metadata": {
    "application/vnd.databricks.v1+cell": {
     "cellMetadata": {
      "byteLimit": 2048000,
      "rowLimit": 10000
     },
     "inputWidgets": {},
     "nuid": "f8010552-37da-491f-87c7-a549ae33600b",
     "showTitle": false,
     "tableResultSettingsMap": {},
     "title": ""
    }
   },
   "outputs": [],
   "source": [
    "# Importações necessárias\n",
    "\n",
    "from pyspark.sql.functions import from_unixtime, col, round, to_date"
   ]
  },
  {
   "cell_type": "code",
   "execution_count": 0,
   "metadata": {
    "application/vnd.databricks.v1+cell": {
     "cellMetadata": {
      "byteLimit": 2048000,
      "rowLimit": 10000
     },
     "inputWidgets": {},
     "nuid": "b90198df-cc95-4f50-a379-057839f084fc",
     "showTitle": false,
     "tableResultSettingsMap": {},
     "title": ""
    }
   },
   "outputs": [],
   "source": [
    "# Leitura dos dados bronze\n",
    "\n",
    "df = spark.table(\"steam.bronze.user_games\")"
   ]
  },
  {
   "cell_type": "code",
   "execution_count": 0,
   "metadata": {
    "application/vnd.databricks.v1+cell": {
     "cellMetadata": {
      "byteLimit": 2048000,
      "rowLimit": 10000
     },
     "inputWidgets": {},
     "nuid": "00effefb-0032-412f-912b-8baee13a41a2",
     "showTitle": false,
     "tableResultSettingsMap": {},
     "title": ""
    }
   },
   "outputs": [],
   "source": [
    "# Converte para timestamp\n",
    "df = df.withColumn(\n",
    "    'rtime_last_played',\n",
    "    from_unixtime(col('rtime_last_played')).cast('timestamp')\n",
    ")\n",
    "\n",
    "# Conversão minutos → horas com 2 casas decimais\n",
    "df = df.withColumn(\n",
    "    'playtime_forever',\n",
    "    round(col('playtime_forever') / 60, 2).cast('double')\n",
    ")\n",
    "\n",
    "# Filtrar apenas valores maiores que 0.00\n",
    "df = df.filter(col('playtime_forever') > 0.00)\n",
    "\n",
    "# Convertendo coluna string para int\n",
    "df = df.withColumn(\"appid\", col(\"appid\").cast(\"int\"))\n",
    "\n",
    "# Selecionando colunas ao dataframe final\n",
    "df = df.select('appid','playtime_forever','rtime_last_played')"
   ]
  },
  {
   "cell_type": "code",
   "execution_count": null,
   "metadata": {},
   "outputs": [],
   "source": [
    "%sql\n",
    "-- Usando SQL mágico do Databricks para criar schema se não existir\n",
    "CREATE SCHEMA IF NOT EXISTS steam.silver.user_games"
   ]
  },
  {
   "cell_type": "code",
   "execution_count": null,
   "metadata": {},
   "outputs": [],
   "source": [
    "%sql\n",
    "-- Criação da tabela Delta se não existir\n",
    "CREATE TABLE IF NOT EXISTS steam.silver.user_games (\n",
    "  appid INT,\n",
    "  playtime_forever DOUBLE,\n",
    "  rtime_last_played TIMESTAMP\n",
    ")\n",
    "USING DELTA"
   ]
  },
  {
   "cell_type": "code",
   "execution_count": 0,
   "metadata": {
    "application/vnd.databricks.v1+cell": {
     "cellMetadata": {
      "byteLimit": 2048000,
      "rowLimit": 10000
     },
     "inputWidgets": {},
     "nuid": "889ea874-bc3d-4b7d-8235-e4dc95aa1f91",
     "showTitle": false,
     "tableResultSettingsMap": {},
     "title": ""
    }
   },
   "outputs": [],
   "source": [
    "# Escrita na camada silver\n",
    "df.write \\\n",
    "    .format(\"delta\") \\\n",
    "    .mode(\"overwrite\") \\\n",
    "    .saveAsTable(\"steam.silver.user_games\")"
   ]
  }
 ],
 "metadata": {
  "application/vnd.databricks.v1+notebook": {
   "computePreferences": null,
   "dashboards": [],
   "environmentMetadata": null,
   "inputWidgetPreferences": null,
   "language": "python",
   "notebookMetadata": {
    "mostRecentlyExecutedCommandWithImplicitDF": {
     "commandId": 5409335137867601,
     "dataframes": [
      "_sqldf"
     ]
    },
    "pythonIndentUnit": 4
   },
   "notebookName": "user",
   "widgets": {}
  },
  "language_info": {
   "name": "python"
  }
 },
 "nbformat": 4,
 "nbformat_minor": 0
}
