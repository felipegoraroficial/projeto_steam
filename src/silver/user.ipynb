{
 "cells": [
  {
   "cell_type": "code",
   "execution_count": null,
   "id": "0798646a",
   "metadata": {},
   "outputs": [],
   "source": [
    "from pyspark.sql.functions import from_unixtime, col, round, to_date"
   ]
  },
  {
   "cell_type": "code",
   "execution_count": null,
   "id": "74d090a4",
   "metadata": {},
   "outputs": [],
   "source": [
    "df = spark.read.format('delta').load(\"dbfs:/FileStore/tables/bronze/user_details\")"
   ]
  },
  {
   "cell_type": "code",
   "execution_count": null,
   "id": "1bdf1ed9",
   "metadata": {},
   "outputs": [],
   "source": [
    "# Converte para timestamp\n",
    "df = df.withColumn(\n",
    "    'rtime_last_played',\n",
    "    from_unixtime(col('rtime_last_played')).cast('timestamp')\n",
    ")\n",
    "\n",
    "# Conversão minutos → horas com 2 casas decimais\n",
    "df = df.withColumn(\n",
    "    'playtime_forever',\n",
    "    round(col('playtime_forever') / 60, 2).cast('double')\n",
    ")\n",
    "\n",
    "# Filtrar apenas valores maiores que 0.00\n",
    "df = df.filter(col('playtime_forever') > 0.00)\n",
    "\n",
    "# Converte de string para date\n",
    "df = df.withColumn(\"data_ref\", to_date(col(\"data_ref\"), \"yyyy-MM-dd\"))\n",
    "\n",
    "df = df.select('appid','playtime_forever','rtime_last_played','data_ref')"
   ]
  },
  {
   "cell_type": "code",
   "execution_count": null,
   "id": "0492606b",
   "metadata": {},
   "outputs": [],
   "source": [
    "df.write.format(\"delta\") \\\n",
    "    .mode(\"overwrite\") \\\n",
    "    .partitionBy(\"data_ref\") \\\n",
    "    .save(\"dbfs:/FileStore/tables/silver/user_details\")"
   ]
  }
 ],
 "metadata": {
  "language_info": {
   "name": "python"
  }
 },
 "nbformat": 4,
 "nbformat_minor": 5
}
